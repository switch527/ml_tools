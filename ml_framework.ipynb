{
 "cells": [
  {
   "cell_type": "code",
   "execution_count": null,
   "outputs": [],
   "source": [
    "from collections import Counter, OrderedDict\n",
    "import numpy as np\n",
    "import pandas as pd\n",
    "\n",
    "from sklearn.model_selection import train_test_split, cross_val_score, KFold, StratifiedKFold, RepeatedStratifiedKFold\n",
    "from sklearn.preprocessing import LabelEncoder\n",
    "from sklearn import metrics\n",
    "from sklearn.metrics import make_scorer, accuracy_score\n",
    "\n",
    "from imblearn.under_sampling import RandomUnderSampler\n",
    "\n",
    "from hyperopt import hp\n",
    "from hyperopt.pyll.base import scope\n",
    "\n",
    "from xgboost import XGBClassifier\n",
    "from catboost import CatBoostClassifier\n",
    "from lightgbm import LGBMClassifier\n",
    "\n",
    "from ray.tune.sklearn import TuneSearchCV\n",
    "\n",
    "import tools"
   ],
   "metadata": {
    "collapsed": false,
    "pycharm": {
     "name": "#%%\n"
    }
   }
  },
  {
   "cell_type": "code",
   "execution_count": null,
   "outputs": [],
   "source": [
    "#Run n interations of hyperparameter tuning\n",
    "#Run Buoruta \n",
    "#Repeat until accuracy measure don't improve in n loops\n",
    "#Save best parameters and features"
   ],
   "metadata": {
    "collapsed": false,
    "pycharm": {
     "name": "#%%\n"
    }
   }
  },
  {
   "cell_type": "code",
   "execution_count": null,
   "outputs": [],
   "source": [
    "water = pd.read_csv('water_potability.csv')"
   ],
   "metadata": {
    "collapsed": false,
    "pycharm": {
     "name": "#%%\n"
    }
   }
  },
  {
   "cell_type": "code",
   "execution_count": null,
   "outputs": [],
   "source": [
    "rus = RandomUnderSampler(random_state = 42)\n",
    "X =  water[['Hardness','Solids','Chloramines','Conductivity','Organic_carbon','Turbidity']]\n",
    "y = water['Potability']\n",
    "X_res, y_res = rus.fit_resample(X, y)"
   ],
   "metadata": {
    "collapsed": false,
    "pycharm": {
     "name": "#%%\n"
    }
   }
  },
  {
   "cell_type": "code",
   "execution_count": null,
   "outputs": [],
   "source": [
    "xgboost_params_hyperopt = {\n",
    "    'n_estimators': scope.int(hp.quniform('n_estimators', 20, 1000, 10)),\n",
    "    'max_depth': hp.uniformint('max_depth', 2, 16),\n",
    "    'learning_rate': hp.uniform('learning_rate', 0.05, 1.0),\n",
    "    'subsample': hp.quniform('subsample', 0.3, 1.0, 0.1),\n",
    "    'colsample_bytree': hp.quniform('colsample_bytree', 0.3, 1.0, 0.1),\n",
    "    'colsample_bylevel': hp.quniform('colsample_bylevel', 0.3, 1.0, 0.1),\n",
    "    'colsample_bynode': hp.quniform('colsample_bynode', 0.3, 1.0, 0.1)\n",
    "#    'reg_alpha': hp.quniform('reg_alpha', 1, 100, .5),\n",
    "#    'reg_lambda': scope.int(hp.quniform('reg_lambda', 1, 100, 1))\n",
    "}\n",
    "\n",
    "lgbm_params_hyperopt = {\n",
    "    'boosting_type': hp.choice('boosting_type', ['gbdt', 'dart', 'goss', 'rf']),\n",
    "#    'num_leaves': hp.uniformint('num_leaves', 2, 25), \n",
    "    'max_depth': hp.uniformint('max_depth', 2, 25),\n",
    "    'learning_rate': hp.uniform('learning_rate', 0.05, 1.0),\n",
    "    'n_estimators': scope.int(hp.quniform('n_estimators', 20, 1000, 10)),\n",
    "#    'subsample_for_bin',\n",
    "#    'class_weight',\n",
    "#    'min_split_gain',\n",
    "#    'min_child_weight',\n",
    "#    'min_child_samples',\n",
    "    'subsample': hp.quniform('subsample', 0.3, 1.0, 0.1),\n",
    "#    'subsample_freq': hp.uniformint('subsample_freq', 2, 16),\n",
    "    'colsample_bytree': hp.quniform('colsample_bytree', 0.3, 1.0, 0.1),\n",
    "#    'reg_alpha': hp.quniform('reg_alpha', 1, 100, .5),\n",
    "#    'reg_lambda': scope.int(hp.quniform('reg_lambda', 1, 100, 1))\n",
    "}\n",
    "\n",
    "catboost_params_hyperopt = {\n",
    "    'iterations': scope.int(hp.quniform('iterations', 10, 1000, 10)),\n",
    "    'learning_rate': hp.uniform('learning_rate', 0.05, 1.0),\n",
    "    'depth': hp.uniformint('depth', 2, 16),\n",
    "    'l2_leaf_reg': hp.uniform('l2_leaf_reg', .0001, 1000.0),\n",
    "#    'random_strength',\n",
    "#    'bagging_temperature',\n",
    "#    'border_count': hp.uniformint('border_count', 2, 254),\n",
    "#    'has_time',\n",
    "#    'rsm': hp.quniform('rsm', 0.3, 1.0, 0.1),\n",
    "    'grow_policy': hp.choice('grow_policy', ['SymmetricTree', 'Depthwise', 'Lossguide'])\n",
    "#    'boosting_type': hp.choice('boosting_type', ['Ordered', 'Plain'])\n",
    "#    'min_data_in_leaf': hp.uniformint('min_data_in_leaf', 2, 64),\n",
    "#only with lossguide tree growth        'max_leaves': hp.uniformint('max_leaves', 2, 64)  \n",
    "}\n"
   ],
   "metadata": {
    "collapsed": false,
    "pycharm": {
     "name": "#%%\n"
    }
   }
  },
  {
   "cell_type": "code",
   "execution_count": null,
   "outputs": [],
   "source": [
    "clf_xgb = XGBClassifier(random_state=42, \n",
    "                        verbosity=0, \n",
    "                        use_label_encoder=False)\n",
    "\n",
    "clf_lgbm = LGBMClassifier(objective='binary',\n",
    "                          force_col_wise=True,\n",
    "                          random_state=42, \n",
    "                          verbosity=0, \n",
    "                          use_label_encoder=False)\n",
    "\n",
    "clf_cb = CatBoostClassifier(random_state=42, \n",
    "                            verbose=0)\n"
   ],
   "metadata": {
    "collapsed": false,
    "pycharm": {
     "name": "#%%\n"
    }
   }
  },
  {
   "cell_type": "code",
   "execution_count": null,
   "outputs": [],
   "source": [
    "#cv = RepeatedStratifiedKFold(n_splits=5, n_repeats=2, random_state=42)\n",
    "cv = StratifiedKFold(n_splits=5)\n",
    "\n",
    "search = TuneSearchCV(estimator=clf_cb, \n",
    "                      search_optimization='hyperopt', \n",
    "                      param_distributions=catboost_params_hyperopt, \n",
    "                      n_trials=5, \n",
    "                      cv=cv, \n",
    "                      scoring={\"f1\":\"f1\",\n",
    "                               \"precision\":\"precision\",\n",
    "                               \"recall\":\"recall\",\n",
    "                               \"accuracy\":\"accuracy\"}, \n",
    "                      refit='f1', \n",
    "                      return_train_score=False,\n",
    "                      early_stopping=False, \n",
    "                      verbose=1, \n",
    "                      n_jobs=8)"
   ],
   "metadata": {
    "collapsed": false,
    "pycharm": {
     "name": "#%%\n"
    }
   }
  },
  {
   "cell_type": "code",
   "execution_count": null,
   "outputs": [],
   "source": [
    "search.fit(X_res, y_res)"
   ],
   "metadata": {
    "collapsed": false,
    "pycharm": {
     "name": "#%%\n"
    }
   }
  },
  {
   "cell_type": "code",
   "execution_count": null,
   "outputs": [],
   "source": [
    "results = tools.get_results(search)\n",
    "results"
   ],
   "metadata": {
    "collapsed": false,
    "pycharm": {
     "name": "#%%\n"
    }
   }
  },
  {
   "cell_type": "code",
   "execution_count": null,
   "outputs": [],
   "source": [
    "cv = RepeatedStratifiedKFold(n_splits=5, n_repeats=2, random_state=42)\n",
    "#cv = StratifiedKFold(n_splits=5)\n",
    "\n",
    "search = BayesSearchCV(estimator=XGBRFClassifier(use_label_encoder=False,verbosity=0,), \n",
    "                       search_spaces=params, cv=cv, scoring='f1', refit='f1', n_iter=500, \n",
    "                       n_jobs=8, verbose=1, random_state=42, return_train_score=True)\n",
    "search.fit(X_res.values, y_res)\n",
    "# report the best result\n",
    "print(search.best_score_)\n",
    "print(search.best_params_)\n",
    "\n",
    "bp = search.best_params_\n",
    "hp = list(bp.keys())\n",
    "v = list(bp.values())"
   ],
   "metadata": {
    "collapsed": false,
    "pycharm": {
     "name": "#%%\n"
    }
   }
  },
  {
   "cell_type": "code",
   "execution_count": 94,
   "id": "7b666faa-d6be-4963-b985-d8708edf2688",
   "metadata": {
    "pycharm": {
     "name": "#%%\n"
    }
   },
   "outputs": [],
   "source": [
    "clf = RandomForestClassifier(n_estimators=bp[\"n_estimators\"], \n",
    "                             criterion=bp[\"criterion\"], \n",
    "                             max_depth=bp[\"max_depth\"], \n",
    "                             min_samples_split=bp[\"min_samples_split\"], \n",
    "                             min_samples_leaf=bp[\"min_samples_leaf\"],\n",
    "                             min_weight_fraction_leaf=bp[\"min_weight_fraction_leaf\"],\n",
    "                             max_features=bp[\"max_features\"],\n",
    "                             max_leaf_nodes=None,\n",
    "                             min_impurity_decrease=bp[\"min_impurity_decrease\"],\n",
    "                             bootstrap=bp[\"bootstrap\"],\n",
    "                             oob_score=False,\n",
    "                             n_jobs=-1)"
   ]
  },
  {
   "cell_type": "code",
   "execution_count": 12,
   "id": "27e9fd4e-ce80-4151-9455-31f1c4d19ee7",
   "metadata": {
    "pycharm": {
     "name": "#%%\n"
    },
    "tags": []
   },
   "outputs": [
    {
     "data": {
      "text/plain": [
       "array([0.5440613 , 0.45360825, 0.49206349, 0.45714286, 0.4852071 ])"
      ]
     },
     "execution_count": 12,
     "metadata": {},
     "output_type": "execute_result"
    }
   ],
   "source": [
    "cross_val_score(clf_xgb, X_res, y_res, cv=5, scoring='f1')"
   ]
  },
  {
   "cell_type": "code",
   "execution_count": 35,
   "id": "11e8e81d-b17d-46f5-9df3-bd9f3f7185b6",
   "metadata": {
    "pycharm": {
     "name": "#%%\n"
    }
   },
   "outputs": [],
   "source": [
    "clf = RandomForestClassifier(n_estimators=1000, \n",
    "                             criterion='gini', \n",
    "                             max_depth=None, \n",
    "                             min_samples_split=2, \n",
    "                             min_samples_leaf=1,\n",
    "                             min_weight_fraction_leaf=0.0,\n",
    "                             max_features=None,\n",
    "                             max_leaf_nodes=None,\n",
    "                             min_impurity_decrease=0.0,\n",
    "                             bootstrap=True,\n",
    "                             oob_score=False,\n",
    "                             n_jobs=-1)"
   ]
  },
  {
   "cell_type": "code",
   "execution_count": 88,
   "id": "60feadab-729b-4382-9052-a7b5a0ef2e3e",
   "metadata": {
    "pycharm": {
     "name": "#%%\n"
    }
   },
   "outputs": [],
   "source": [
    "params = OrderedDict()\n",
    "params[\"n_estimators\"] = (20, 1000)\n",
    "params[\"criterion\"] = [\"gini\", \"entropy\"]\n",
    "params[\"max_depth\"] = (1, 9)\n",
    "params[\"min_samples_split\"] = (2, 100)\n",
    "params[\"min_samples_leaf\"] = (1, 100)\n",
    "params[\"min_weight_fraction_leaf\"] = (0.0, 0.5)\n",
    "params[\"max_features\"] = [\"sqrt\", \"log2\", None]\n",
    "#params[\"max_leaf_nodes\"] = None\n",
    "params[\"min_impurity_decrease\"] = (0.0, 1.0)\n",
    "params[\"bootstrap\"] = [True, False]"
   ]
  },
  {
   "cell_type": "code",
   "execution_count": 32,
   "id": "81525646-54ab-44d1-b41e-af42c9ddb361",
   "metadata": {
    "pycharm": {
     "name": "#%%\n"
    }
   },
   "outputs": [],
   "source": [
    "X_clf_train, X_clf_valid, y_clf_train, y_clf_valid = train_test_split(\n",
    "    X_res.values, y_res, test_size=0.3, shuffle=False)"
   ]
  },
  {
   "cell_type": "code",
   "execution_count": 18,
   "id": "1f8a6bfc-1308-4c13-9c1d-ae8d077ddc7c",
   "metadata": {
    "pycharm": {
     "name": "#%%\n"
    }
   },
   "outputs": [],
   "source": [
    "clf = XGBRFClassifier(n_estimators=1000,\n",
    "                      max_depth=None, \n",
    "                      #max_leaves=0, \n",
    "                      #max_bin=0,\n",
    "                      grow_policy='depthwise',\n",
    "                      learning_rate=0.1,\n",
    "                      objective='reg:squarederror',\n",
    "                      booster='gbtree',\n",
    "                      tree_method='exact',\n",
    "                      #gamma=0.0,\n",
    "                      #min_child_weight=0.0,\n",
    "                      #max_delta_step=0.0,\n",
    "                      subsample=0.7,\n",
    "                      colsample_bytree=0.7,\n",
    "                      colsample_bylevel=0.7,\n",
    "                      colsample_bynode=0.7,\n",
    "                      #reg_alpha=0.0,\n",
    "                      #reg_lambda=0.0,\n",
    "                      #scale_pos_weight=0.0,\n",
    "                      use_label_encoder=False,\n",
    "                      verbosity=0,       \n",
    "                      n_jobs=-1)"
   ]
  },
  {
   "cell_type": "code",
   "execution_count": 70,
   "id": "705b456d-f6a8-43c4-81de-fee527b53d5c",
   "metadata": {
    "pycharm": {
     "name": "#%%\n"
    }
   },
   "outputs": [],
   "source": [
    "params = {\n",
    "    \"n_estimators\": (20,1000),\n",
    "    \"criterion\": [\"gini\", \"entropy\"],\n",
    "    \"max_depth\": (1, 9),\n",
    "    \"min_samples_split\": (2, 100),\n",
    "    \"min_samples_leaf\": (1, 100),\n",
    "    \"min_weight_fraction_leaf\": (0.0, 0.5),\n",
    "    \"max_features\": [\"sqrt\", \"log2\", None],\n",
    "    #\"max_leaf_nodes\": None,\n",
    "    \"min_impurity_decrease\": (0.0, 1.0),\n",
    "    \"bootstrap\": [True, False],\n",
    "}"
   ]
  },
  {
   "cell_type": "code",
   "execution_count": 122,
   "id": "fd1c29b3-db35-4330-85a5-52f06b0f3da7",
   "metadata": {
    "pycharm": {
     "name": "#%%\n"
    },
    "tags": []
   },
   "outputs": [],
   "source": [
    "#xgboost search space\n",
    "xgboost_params_bayesian = OrderedDict()\n",
    "params[\"n_estimators\"] = (20, 1000)\n",
    "params[\"max_depth\"] = (1, 50)\n",
    "#params[\"max_leaves\"] = (1, 9)\n",
    "#params[\"max_bin\"] = (2, 100)\n",
    "params[\"grow_policy\"] = ['depthwise', 'lossguide']\n",
    "params[\"learning_rate\"] = (0.0001, 0.99)\n",
    "#params[\"objective\"] = \n",
    "#params[\"booster\"] = [\"gbtree\", \"gblinear\", \"dart\"]\n",
    "params[\"tree_method\"] = [\"exact\", \"approx\", \"hist\"]\n",
    "params[\"gamma\"] = (0.0, 1000.0)\n",
    "params[\"min_child_weight\"] = (0.0, 500.0)\n",
    "#params[\"max_delta_step\"] = (0.0, 1.0)\n",
    "params[\"subsample\"] = (0.0, 1.0)\n",
    "#params[\"subsampleing_method\"] = ['uniform', 'gradient']\n",
    "params[\"colsample_bytree\"] = (0.1, 1.0)\n",
    "params[\"colsample_bylevel\"] = (0.1, 1.0)\n",
    "params[\"colsample_bynode\"] = (0.1, 1.0)\n",
    "params[\"reg_alpha\"] = (0.0, 100.0)\n",
    "params[\"reg_lambda\"] = (0.0, 100.0)\n",
    "#params[\"scale_pos_weight\"] = (0.0, 1.0)\n",
    "#params[\"base_score\"] = (0.0, 1.0)"
   ]
  },
  {
   "cell_type": "code",
   "execution_count": 14,
   "id": "7bcbf602-4801-4f95-9a40-3dcb085b1210",
   "metadata": {
    "pycharm": {
     "name": "#%%\n"
    }
   },
   "outputs": [],
   "source": [
    "#import skopt\n",
    "#from skopt import BayesSearchCV"
   ]
  },
  {
   "cell_type": "code",
   "execution_count": 76,
   "id": "1a01e21f-9604-445f-8e3e-deffa5c89adb",
   "metadata": {
    "pycharm": {
     "name": "#%%\n"
    }
   },
   "outputs": [],
   "source": [
    "params = {\n",
    "    \"gamma\": [0.5, 1, 1.5, 2, 5],\n",
    "    \"subsample\": (0.1, 1.0),\n",
    "    \"colsample_bytree\":(0.1, 1.0),\n",
    "    \"max_depth\": [3, 4, 5],\n",
    "}"
   ]
  }
 ],
 "metadata": {
  "kernelspec": {
   "display_name": "Python 3 (ipykernel)",
   "language": "python",
   "name": "python3"
  },
  "language_info": {
   "codemirror_mode": {
    "name": "ipython",
    "version": 3
   },
   "file_extension": ".py",
   "mimetype": "text/x-python",
   "name": "python",
   "nbconvert_exporter": "python",
   "pygments_lexer": "ipython3",
   "version": "3.9.10"
  }
 },
 "nbformat": 4,
 "nbformat_minor": 5
}