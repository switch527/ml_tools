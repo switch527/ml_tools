{
 "cells": [
  {
   "cell_type": "code",
   "execution_count": 47,
   "id": "973b0de3-d63c-4110-b141-11a0bc9707f5",
   "metadata": {
    "pycharm": {
     "name": "#%%\n"
    }
   },
   "outputs": [],
   "source": [
    "from collections import Counter, OrderedDict\n",
    "import numpy as np\n",
    "import pandas as pd\n",
    "from pandasql import sqldf \n",
    "pysqldf = lambda q: sqldf(q, globals())\n",
    "\n",
    "from sklearn.model_selection import train_test_split, cross_val_score, StratifiedKFold, RepeatedStratifiedKFold\n",
    "from sklearn.preprocessing import LabelEncoder\n",
    "from sklearn import metrics\n",
    "from sklearn.metrics import make_scorer, accuracy_score\n",
    "\n",
    "from imblearn.under_sampling import RandomUnderSampler\n",
    "\n",
    "from hyperopt import hp\n",
    "from hyperopt.pyll.base import scope\n",
    "\n",
    "from xgboost import XGBClassifier\n",
    "from catboost import CatBoostClassifier\n",
    "from lightgbm import LGBMClassifier\n",
    "\n",
    "from ray.tune.sklearn import TuneSearchCV\n",
    "\n",
    "import tools"
   ]
  },
  {
   "cell_type": "code",
   "execution_count": 6,
   "id": "c0a400f3-847d-4af4-9a74-02c19d176452",
   "metadata": {
    "pycharm": {
     "name": "#%%\n"
    }
   },
   "outputs": [],
   "source": [
    "#Run n interations of hyperparameter tuning\n",
    "#Run Buoruta \n",
    "#Repeat until accuracy measure don't improve in n loops\n",
    "#Save best parameters and features"
   ]
  },
  {
   "cell_type": "code",
   "execution_count": 69,
   "id": "0776f2f8-5480-48d3-b87a-4dc4def45f80",
   "metadata": {
    "pycharm": {
     "name": "#%%\n"
    },
    "tags": []
   },
   "outputs": [
    {
     "data": {
      "text/html": [
       "<div>\n",
       "<style scoped>\n",
       "    .dataframe tbody tr th:only-of-type {\n",
       "        vertical-align: middle;\n",
       "    }\n",
       "\n",
       "    .dataframe tbody tr th {\n",
       "        vertical-align: top;\n",
       "    }\n",
       "\n",
       "    .dataframe thead th {\n",
       "        text-align: right;\n",
       "    }\n",
       "</style>\n",
       "<table border=\"1\" class=\"dataframe\">\n",
       "  <thead>\n",
       "    <tr style=\"text-align: right;\">\n",
       "      <th></th>\n",
       "      <th>Open</th>\n",
       "      <th>High</th>\n",
       "      <th>Low</th>\n",
       "      <th>Close</th>\n",
       "      <th>Volume</th>\n",
       "    </tr>\n",
       "    <tr>\n",
       "      <th>Date</th>\n",
       "      <th></th>\n",
       "      <th></th>\n",
       "      <th></th>\n",
       "      <th></th>\n",
       "      <th></th>\n",
       "    </tr>\n",
       "  </thead>\n",
       "  <tbody>\n",
       "    <tr>\n",
       "      <th>2020-01-01</th>\n",
       "      <td>7165.90</td>\n",
       "      <td>7231.65</td>\n",
       "      <td>7146.60</td>\n",
       "      <td>7175.20</td>\n",
       "      <td>776.641615</td>\n",
       "    </tr>\n",
       "    <tr>\n",
       "      <th>2020-01-02</th>\n",
       "      <td>7175.20</td>\n",
       "      <td>7186.65</td>\n",
       "      <td>6901.02</td>\n",
       "      <td>6944.90</td>\n",
       "      <td>984.141603</td>\n",
       "    </tr>\n",
       "    <tr>\n",
       "      <th>2020-01-03</th>\n",
       "      <td>6944.90</td>\n",
       "      <td>7398.00</td>\n",
       "      <td>6860.00</td>\n",
       "      <td>7333.00</td>\n",
       "      <td>1292.330594</td>\n",
       "    </tr>\n",
       "    <tr>\n",
       "      <th>2020-01-04</th>\n",
       "      <td>7333.00</td>\n",
       "      <td>7394.40</td>\n",
       "      <td>7258.53</td>\n",
       "      <td>7352.82</td>\n",
       "      <td>402.636843</td>\n",
       "    </tr>\n",
       "    <tr>\n",
       "      <th>2020-01-05</th>\n",
       "      <td>7352.82</td>\n",
       "      <td>7490.17</td>\n",
       "      <td>7313.53</td>\n",
       "      <td>7351.77</td>\n",
       "      <td>554.773602</td>\n",
       "    </tr>\n",
       "  </tbody>\n",
       "</table>\n",
       "</div>"
      ],
      "text/plain": [
       "               Open     High      Low    Close       Volume\n",
       "Date                                                       \n",
       "2020-01-01  7165.90  7231.65  7146.60  7175.20   776.641615\n",
       "2020-01-02  7175.20  7186.65  6901.02  6944.90   984.141603\n",
       "2020-01-03  6944.90  7398.00  6860.00  7333.00  1292.330594\n",
       "2020-01-04  7333.00  7394.40  7258.53  7352.82   402.636843\n",
       "2020-01-05  7352.82  7490.17  7313.53  7351.77   554.773602"
      ]
     },
     "execution_count": 69,
     "metadata": {},
     "output_type": "execute_result"
    }
   ],
   "source": [
    "water = pd.read_csv('water_potability.csv')"
   ]
  },
  {
   "cell_type": "code",
   "execution_count": 5,
   "id": "dafb2884-4b54-4476-b6d8-d782a4b78589",
   "metadata": {
    "pycharm": {
     "name": "#%%\n"
    }
   },
   "outputs": [],
   "source": [
    "rus = RandomUnderSampler(random_state = 42)\n",
    "X =  water[['Hardness','Solids','Chloramines','Conductivity','Organic_carbon','Turbidity']]\n",
    "y = water['Potability']\n",
    "X_res, y_res = rus.fit_resample(X, y)"
   ]
  },
  {
   "cell_type": "code",
   "execution_count": 14,
   "id": "0b6b6359-f3f5-4fd5-be82-6c07bc391544",
   "metadata": {
    "pycharm": {
     "name": "#%%\n"
    }
   },
   "outputs": [],
   "source": [
    "xgboost_params_hyperopt = {\n",
    "    'n_estimators': scope.int(hp.quniform('n_estimators', 20, 1000, 10)),\n",
    "    'max_depth': hp.uniformint('max_depth', 2, 16),\n",
    "    'learning_rate': hp.uniform('learning_rate', 0.05, 1.0),\n",
    "    'subsample': hp.quniform('subsample', 0.3, 1.0, 0.1),\n",
    "    'colsample_bytree': hp.quniform('colsample_bytree', 0.3, 1.0, 0.1),\n",
    "    'colsample_bylevel': hp.quniform('colsample_bylevel', 0.3, 1.0, 0.1),\n",
    "    'colsample_bynode': hp.quniform('colsample_bynode', 0.3, 1.0, 0.1)\n",
    "#    'reg_alpha': hp.quniform('reg_alpha', 1, 100, .5),\n",
    "#    'reg_lambda': scope.int(hp.quniform('reg_lambda', 1, 100, 1))\n",
    "}\n",
    "\n",
    "lgbm_params_hyperopt = {\n",
    "    'boosting_type': hp.choice('boosting_type', ['gbdt', 'dart', 'goss', 'rf']),\n",
    "#    'num_leaves': hp.uniformint('num_leaves', 2, 25), \n",
    "    'max_depth': hp.uniformint('max_depth', 2, 25),\n",
    "    'learning_rate': hp.uniform('learning_rate', 0.05, 1.0),\n",
    "    'n_estimators': scope.int(hp.quniform('n_estimators', 20, 1000, 10)),\n",
    "#    'subsample_for_bin',\n",
    "#    'class_weight',\n",
    "#    'min_split_gain',\n",
    "#    'min_child_weight',\n",
    "#    'min_child_samples',\n",
    "    'subsample': hp.quniform('subsample', 0.3, 1.0, 0.1),\n",
    "#    'subsample_freq': hp.uniformint('subsample_freq', 2, 16),\n",
    "    'colsample_bytree': hp.quniform('colsample_bytree', 0.3, 1.0, 0.1),\n",
    "#    'reg_alpha': hp.quniform('reg_alpha', 1, 100, .5),\n",
    "#    'reg_lambda': scope.int(hp.quniform('reg_lambda', 1, 100, 1))\n",
    "}\n",
    "\n",
    "catboost_params_hyperopt = {\n",
    "    'iterations': scope.int(hp.quniform('iterations', 10, 1000, 10)),\n",
    "    'learning_rate': hp.uniform('learning_rate', 0.05, 1.0),\n",
    "    'depth': hp.uniformint('depth', 2, 16),\n",
    "    'l2_leaf_reg': hp.uniform('l2_leaf_reg', .0001, 1000.0),\n",
    "#    'random_strength',\n",
    "#    'bagging_temperature',\n",
    "#    'border_count': hp.uniformint('border_count', 2, 254),\n",
    "#    'has_time',\n",
    "#    'rsm': hp.quniform('rsm', 0.3, 1.0, 0.1),\n",
    "    'grow_policy': hp.choice('grow_policy', ['SymmetricTree', 'Depthwise', 'Lossguide'])\n",
    "#    'boosting_type': hp.choice('boosting_type', ['Ordered', 'Plain'])\n",
    "#    'min_data_in_leaf': hp.uniformint('min_data_in_leaf', 2, 64),\n",
    "#only with lossguide tree growth        'max_leaves': hp.uniformint('max_leaves', 2, 64)  \n",
    "}\n"
   ]
  },
  {
   "cell_type": "code",
   "execution_count": 15,
   "id": "47ced73e-7676-47ac-9739-6f5ba928401d",
   "metadata": {
    "pycharm": {
     "name": "#%%\n"
    }
   },
   "outputs": [],
   "source": [
    "clf_xgb = XGBClassifier(random_state=42, \n",
    "                        verbosity=0, \n",
    "                        use_label_encoder=False)\n",
    "\n",
    "clf_lgbm = LGBMClassifier(objective='binary',\n",
    "                          force_col_wise=True,\n",
    "                          random_state=42, \n",
    "                          verbosity=0, \n",
    "                          use_label_encoder=False)\n",
    "\n",
    "clf_cb = CatBoostClassifier(random_state=42, \n",
    "                            verbose=0)\n"
   ]
  },
  {
   "cell_type": "code",
   "execution_count": 20,
   "id": "1dfb5688-2d7e-4269-b899-83b530cf40d2",
   "metadata": {
    "pycharm": {
     "name": "#%%\n"
    }
   },
   "outputs": [],
   "source": [
    "cv = RepeatedStratifiedKFold(n_splits=5, n_repeats=2, random_state=42)\n",
    "#cv = StratifiedKFold(n_splits=5)\n",
    "\n",
    "search = TuneSearchCV(estimator=clf_cb, \n",
    "                      search_optimization='hyperopt', \n",
    "                      param_distributions=catboost_params_hyperopt, \n",
    "                      n_trials=5, \n",
    "                      cv=cv, \n",
    "                      scoring={\"f1\":\"f1\",\n",
    "                               \"precision\":\"precision\",\n",
    "                               \"recall\":\"recall\",\n",
    "                               \"accuracy\":\"accuracy\"}, \n",
    "                      refit='f1', \n",
    "                      return_train_score=False,\n",
    "                      early_stopping=False, \n",
    "                      verbose=1, \n",
    "                      n_jobs=8)"
   ]
  },
  {
   "cell_type": "code",
   "execution_count": 21,
   "id": "339011e8-3a9e-4de3-ba86-1f469d20949b",
   "metadata": {
    "pycharm": {
     "name": "#%%\n"
    },
    "tags": []
   },
   "outputs": [
    {
     "data": {
      "text/html": [
       "== Status ==<br>Current time: 2022-04-26 06:20:46 (running for 00:05:40.57)<br>Memory usage on this node: 2.9/62.8 GiB<br>Using FIFO scheduling algorithm.<br>Resources requested: 0/16 CPUs, 0/0 GPUs, 0.0/46.86 GiB heap, 0.0/9.31 GiB objects<br>Result logdir: /home/jovyan/ray_results/_Trainable_2022-04-26_06-15-06<br>Number of trials: 5/5 (5 TERMINATED)<br><br>"
      ],
      "text/plain": [
       "<IPython.core.display.HTML object>"
      ]
     },
     "metadata": {},
     "output_type": "display_data"
    },
    {
     "data": {
      "text/plain": [
       "TuneSearchCV(cv=RepeatedStratifiedKFold(n_repeats=2, n_splits=5, random_state=42),\n",
       "             early_stopping=False,\n",
       "             estimator=<catboost.core.CatBoostClassifier object at 0x7f3b23ab3af0>,\n",
       "             loggers=[<class 'ray.tune.logger.JsonLogger'>,\n",
       "                      <class 'ray.tune.logger.CSVLogger'>],\n",
       "             mode='max', n_jobs=8, n_trials=5,\n",
       "             param_distributions={'depth': <hyperopt.pyll.base.Apply object at 0x7f3b23...\n",
       "                                  'l2_leaf_reg': <hyperopt.pyll.base.Apply object at 0x7f3b23b40610>,\n",
       "                                  'learning_rate': <hyperopt.pyll.base.Apply object at 0x7f3b23b40340>},\n",
       "             refit='f1',\n",
       "             scoring={'accuracy': make_scorer(accuracy_score),\n",
       "                      'f1': make_scorer(f1_score, average=binary),\n",
       "                      'precision': make_scorer(precision_score, average=binary),\n",
       "                      'recall': make_scorer(recall_score, average=binary)},\n",
       "             search_optimization='hyperopt', sk_n_jobs=1, verbose=1)"
      ]
     },
     "execution_count": 21,
     "metadata": {},
     "output_type": "execute_result"
    }
   ],
   "source": [
    "search.fit(X_res, y_res)"
   ]
  },
  {
   "cell_type": "code",
   "execution_count": 19,
   "id": "060cf808-8bb5-4c77-be20-0b5980c8064c",
   "metadata": {
    "pycharm": {
     "name": "#%%\n"
    }
   },
   "outputs": [
    {
     "data": {
      "text/plain": [
       "{'params': {'depth': 8,\n",
       "  'grow_policy': 'SymmetricTree',\n",
       "  'iterations': 590,\n",
       "  'l2_leaf_reg': 33.849826436662276,\n",
       "  'learning_rate': 0.1891473585283992},\n",
       " 'refit_metric': 'f1',\n",
       " 'best_refit_index': 4,\n",
       " 'f1_refit': 0.4780466461928473,\n",
       " 'precision_refit_best': 0.4950326059858393,\n",
       " 'recall_refit_best': 0.4631648284313726,\n",
       " 'accuracy_refit_best': 0.4964675574853229}"
      ]
     },
     "execution_count": 19,
     "metadata": {},
     "output_type": "execute_result"
    }
   ],
   "source": [
    "results = tools.get_results(search)\n",
    "results"
   ]
  },
  {
   "cell_type": "code",
   "execution_count": 15,
   "id": "39099211-eb04-4081-8a0f-38b32a82b28f",
   "metadata": {
    "collapsed": true,
    "jupyter": {
     "outputs_hidden": true
    },
    "pycharm": {
     "name": "#%%\n"
    },
    "tags": []
   },
   "outputs": [
    {
     "name": "stdout",
     "output_type": "stream",
     "text": [
      "Fitting 10 folds for each of 1 candidates, totalling 10 fits\n"
     ]
    },
    {
     "name": "stderr",
     "output_type": "stream",
     "text": [
      "/opt/conda/lib/python3.9/site-packages/xgboost/compat.py:36: FutureWarning: pandas.Int64Index is deprecated and will be removed from pandas in a future version. Use pandas.Index with the appropriate dtype instead.\n",
      "  from pandas import MultiIndex, Int64Index\n",
      "/opt/conda/lib/python3.9/site-packages/xgboost/compat.py:36: FutureWarning: pandas.Int64Index is deprecated and will be removed from pandas in a future version. Use pandas.Index with the appropriate dtype instead.\n",
      "  from pandas import MultiIndex, Int64Index\n",
      "/opt/conda/lib/python3.9/site-packages/xgboost/compat.py:36: FutureWarning: pandas.Int64Index is deprecated and will be removed from pandas in a future version. Use pandas.Index with the appropriate dtype instead.\n",
      "  from pandas import MultiIndex, Int64Index\n",
      "/opt/conda/lib/python3.9/site-packages/xgboost/compat.py:36: FutureWarning: pandas.Int64Index is deprecated and will be removed from pandas in a future version. Use pandas.Index with the appropriate dtype instead.\n",
      "  from pandas import MultiIndex, Int64Index\n",
      "/opt/conda/lib/python3.9/site-packages/xgboost/compat.py:36: FutureWarning: pandas.Int64Index is deprecated and will be removed from pandas in a future version. Use pandas.Index with the appropriate dtype instead.\n",
      "  from pandas import MultiIndex, Int64Index\n",
      "/opt/conda/lib/python3.9/site-packages/xgboost/compat.py:36: FutureWarning: pandas.Int64Index is deprecated and will be removed from pandas in a future version. Use pandas.Index with the appropriate dtype instead.\n",
      "  from pandas import MultiIndex, Int64Index\n",
      "/opt/conda/lib/python3.9/site-packages/xgboost/compat.py:36: FutureWarning: pandas.Int64Index is deprecated and will be removed from pandas in a future version. Use pandas.Index with the appropriate dtype instead.\n",
      "  from pandas import MultiIndex, Int64Index\n",
      "/opt/conda/lib/python3.9/site-packages/xgboost/compat.py:36: FutureWarning: pandas.Int64Index is deprecated and will be removed from pandas in a future version. Use pandas.Index with the appropriate dtype instead.\n",
      "  from pandas import MultiIndex, Int64Index\n"
     ]
    },
    {
     "name": "stdout",
     "output_type": "stream",
     "text": [
      "Fitting 10 folds for each of 1 candidates, totalling 10 fits\n",
      "Fitting 10 folds for each of 1 candidates, totalling 10 fits\n",
      "Fitting 10 folds for each of 1 candidates, totalling 10 fits\n",
      "Fitting 10 folds for each of 1 candidates, totalling 10 fits\n",
      "Fitting 10 folds for each of 1 candidates, totalling 10 fits\n",
      "Fitting 10 folds for each of 1 candidates, totalling 10 fits\n"
     ]
    },
    {
     "ename": "KeyboardInterrupt",
     "evalue": "",
     "output_type": "error",
     "traceback": [
      "\u001B[0;31m---------------------------------------------------------------------------\u001B[0m",
      "\u001B[0;31mEmpty\u001B[0m                                     Traceback (most recent call last)",
      "File \u001B[0;32m/opt/conda/lib/python3.9/site-packages/joblib/parallel.py:822\u001B[0m, in \u001B[0;36mParallel.dispatch_one_batch\u001B[0;34m(self, iterator)\u001B[0m\n\u001B[1;32m    821\u001B[0m \u001B[38;5;28;01mtry\u001B[39;00m:\n\u001B[0;32m--> 822\u001B[0m     tasks \u001B[38;5;241m=\u001B[39m \u001B[38;5;28;43mself\u001B[39;49m\u001B[38;5;241;43m.\u001B[39;49m\u001B[43m_ready_batches\u001B[49m\u001B[38;5;241;43m.\u001B[39;49m\u001B[43mget\u001B[49m\u001B[43m(\u001B[49m\u001B[43mblock\u001B[49m\u001B[38;5;241;43m=\u001B[39;49m\u001B[38;5;28;43;01mFalse\u001B[39;49;00m\u001B[43m)\u001B[49m\n\u001B[1;32m    823\u001B[0m \u001B[38;5;28;01mexcept\u001B[39;00m queue\u001B[38;5;241m.\u001B[39mEmpty:\n\u001B[1;32m    824\u001B[0m     \u001B[38;5;66;03m# slice the iterator n_jobs * batchsize items at a time. If the\u001B[39;00m\n\u001B[1;32m    825\u001B[0m     \u001B[38;5;66;03m# slice returns less than that, then the current batchsize puts\u001B[39;00m\n\u001B[0;32m   (...)\u001B[0m\n\u001B[1;32m    828\u001B[0m     \u001B[38;5;66;03m# accordingly to distribute evenly the last items between all\u001B[39;00m\n\u001B[1;32m    829\u001B[0m     \u001B[38;5;66;03m# workers.\u001B[39;00m\n",
      "File \u001B[0;32m/opt/conda/lib/python3.9/queue.py:168\u001B[0m, in \u001B[0;36mQueue.get\u001B[0;34m(self, block, timeout)\u001B[0m\n\u001B[1;32m    167\u001B[0m     \u001B[38;5;28;01mif\u001B[39;00m \u001B[38;5;129;01mnot\u001B[39;00m \u001B[38;5;28mself\u001B[39m\u001B[38;5;241m.\u001B[39m_qsize():\n\u001B[0;32m--> 168\u001B[0m         \u001B[38;5;28;01mraise\u001B[39;00m Empty\n\u001B[1;32m    169\u001B[0m \u001B[38;5;28;01melif\u001B[39;00m timeout \u001B[38;5;129;01mis\u001B[39;00m \u001B[38;5;28;01mNone\u001B[39;00m:\n",
      "\u001B[0;31mEmpty\u001B[0m: ",
      "\nDuring handling of the above exception, another exception occurred:\n",
      "\u001B[0;31mKeyboardInterrupt\u001B[0m                         Traceback (most recent call last)",
      "Input \u001B[0;32mIn [15]\u001B[0m, in \u001B[0;36m<cell line: 7>\u001B[0;34m()\u001B[0m\n\u001B[1;32m      2\u001B[0m \u001B[38;5;66;03m#cv = StratifiedKFold(n_splits=5)\u001B[39;00m\n\u001B[1;32m      4\u001B[0m search \u001B[38;5;241m=\u001B[39m BayesSearchCV(estimator\u001B[38;5;241m=\u001B[39mXGBRFClassifier(use_label_encoder\u001B[38;5;241m=\u001B[39m\u001B[38;5;28;01mFalse\u001B[39;00m,verbosity\u001B[38;5;241m=\u001B[39m\u001B[38;5;241m0\u001B[39m,), \n\u001B[1;32m      5\u001B[0m                        search_spaces\u001B[38;5;241m=\u001B[39mparams, cv\u001B[38;5;241m=\u001B[39mcv, scoring\u001B[38;5;241m=\u001B[39m\u001B[38;5;124m'\u001B[39m\u001B[38;5;124mf1\u001B[39m\u001B[38;5;124m'\u001B[39m, refit\u001B[38;5;241m=\u001B[39m\u001B[38;5;124m'\u001B[39m\u001B[38;5;124mf1\u001B[39m\u001B[38;5;124m'\u001B[39m, n_iter\u001B[38;5;241m=\u001B[39m\u001B[38;5;241m500\u001B[39m, \n\u001B[1;32m      6\u001B[0m                        n_jobs\u001B[38;5;241m=\u001B[39m\u001B[38;5;241m8\u001B[39m, verbose\u001B[38;5;241m=\u001B[39m\u001B[38;5;241m1\u001B[39m, random_state\u001B[38;5;241m=\u001B[39m\u001B[38;5;241m42\u001B[39m, return_train_score\u001B[38;5;241m=\u001B[39m\u001B[38;5;28;01mTrue\u001B[39;00m)\n\u001B[0;32m----> 7\u001B[0m \u001B[43msearch\u001B[49m\u001B[38;5;241;43m.\u001B[39;49m\u001B[43mfit\u001B[49m\u001B[43m(\u001B[49m\u001B[43mX_res\u001B[49m\u001B[38;5;241;43m.\u001B[39;49m\u001B[43mvalues\u001B[49m\u001B[43m,\u001B[49m\u001B[43m \u001B[49m\u001B[43my_res\u001B[49m\u001B[43m)\u001B[49m\n\u001B[1;32m      8\u001B[0m \u001B[38;5;66;03m# report the best result\u001B[39;00m\n\u001B[1;32m      9\u001B[0m \u001B[38;5;28mprint\u001B[39m(search\u001B[38;5;241m.\u001B[39mbest_score_)\n",
      "File \u001B[0;32m/opt/conda/lib/python3.9/site-packages/skopt/searchcv.py:466\u001B[0m, in \u001B[0;36mBayesSearchCV.fit\u001B[0;34m(self, X, y, groups, callback, **fit_params)\u001B[0m\n\u001B[1;32m    463\u001B[0m \u001B[38;5;28;01melse\u001B[39;00m:\n\u001B[1;32m    464\u001B[0m     \u001B[38;5;28mself\u001B[39m\u001B[38;5;241m.\u001B[39moptimizer_kwargs_ \u001B[38;5;241m=\u001B[39m \u001B[38;5;28mdict\u001B[39m(\u001B[38;5;28mself\u001B[39m\u001B[38;5;241m.\u001B[39moptimizer_kwargs)\n\u001B[0;32m--> 466\u001B[0m \u001B[38;5;28;43msuper\u001B[39;49m\u001B[43m(\u001B[49m\u001B[43m)\u001B[49m\u001B[38;5;241;43m.\u001B[39;49m\u001B[43mfit\u001B[49m\u001B[43m(\u001B[49m\u001B[43mX\u001B[49m\u001B[38;5;241;43m=\u001B[39;49m\u001B[43mX\u001B[49m\u001B[43m,\u001B[49m\u001B[43m \u001B[49m\u001B[43my\u001B[49m\u001B[38;5;241;43m=\u001B[39;49m\u001B[43my\u001B[49m\u001B[43m,\u001B[49m\u001B[43m \u001B[49m\u001B[43mgroups\u001B[49m\u001B[38;5;241;43m=\u001B[39;49m\u001B[43mgroups\u001B[49m\u001B[43m,\u001B[49m\u001B[43m \u001B[49m\u001B[38;5;241;43m*\u001B[39;49m\u001B[38;5;241;43m*\u001B[39;49m\u001B[43mfit_params\u001B[49m\u001B[43m)\u001B[49m\n\u001B[1;32m    468\u001B[0m \u001B[38;5;66;03m# BaseSearchCV never ranked train scores,\u001B[39;00m\n\u001B[1;32m    469\u001B[0m \u001B[38;5;66;03m# but apparently we used to ship this (back-compat)\u001B[39;00m\n\u001B[1;32m    470\u001B[0m \u001B[38;5;28;01mif\u001B[39;00m \u001B[38;5;28mself\u001B[39m\u001B[38;5;241m.\u001B[39mreturn_train_score:\n",
      "File \u001B[0;32m/opt/conda/lib/python3.9/site-packages/sklearn/model_selection/_search.py:891\u001B[0m, in \u001B[0;36mBaseSearchCV.fit\u001B[0;34m(self, X, y, groups, **fit_params)\u001B[0m\n\u001B[1;32m    885\u001B[0m     results \u001B[38;5;241m=\u001B[39m \u001B[38;5;28mself\u001B[39m\u001B[38;5;241m.\u001B[39m_format_results(\n\u001B[1;32m    886\u001B[0m         all_candidate_params, n_splits, all_out, all_more_results\n\u001B[1;32m    887\u001B[0m     )\n\u001B[1;32m    889\u001B[0m     \u001B[38;5;28;01mreturn\u001B[39;00m results\n\u001B[0;32m--> 891\u001B[0m \u001B[38;5;28;43mself\u001B[39;49m\u001B[38;5;241;43m.\u001B[39;49m\u001B[43m_run_search\u001B[49m\u001B[43m(\u001B[49m\u001B[43mevaluate_candidates\u001B[49m\u001B[43m)\u001B[49m\n\u001B[1;32m    893\u001B[0m \u001B[38;5;66;03m# multimetric is determined here because in the case of a callable\u001B[39;00m\n\u001B[1;32m    894\u001B[0m \u001B[38;5;66;03m# self.scoring the return type is only known after calling\u001B[39;00m\n\u001B[1;32m    895\u001B[0m first_test_score \u001B[38;5;241m=\u001B[39m all_out[\u001B[38;5;241m0\u001B[39m][\u001B[38;5;124m\"\u001B[39m\u001B[38;5;124mtest_scores\u001B[39m\u001B[38;5;124m\"\u001B[39m]\n",
      "File \u001B[0;32m/opt/conda/lib/python3.9/site-packages/skopt/searchcv.py:512\u001B[0m, in \u001B[0;36mBayesSearchCV._run_search\u001B[0;34m(self, evaluate_candidates)\u001B[0m\n\u001B[1;32m    508\u001B[0m \u001B[38;5;28;01mwhile\u001B[39;00m n_iter \u001B[38;5;241m>\u001B[39m \u001B[38;5;241m0\u001B[39m:\n\u001B[1;32m    509\u001B[0m     \u001B[38;5;66;03m# when n_iter < n_points points left for evaluation\u001B[39;00m\n\u001B[1;32m    510\u001B[0m     n_points_adjusted \u001B[38;5;241m=\u001B[39m \u001B[38;5;28mmin\u001B[39m(n_iter, n_points)\n\u001B[0;32m--> 512\u001B[0m     optim_result \u001B[38;5;241m=\u001B[39m \u001B[38;5;28;43mself\u001B[39;49m\u001B[38;5;241;43m.\u001B[39;49m\u001B[43m_step\u001B[49m\u001B[43m(\u001B[49m\n\u001B[1;32m    513\u001B[0m \u001B[43m        \u001B[49m\u001B[43msearch_space\u001B[49m\u001B[43m,\u001B[49m\u001B[43m \u001B[49m\u001B[43moptimizer\u001B[49m\u001B[43m,\u001B[49m\n\u001B[1;32m    514\u001B[0m \u001B[43m        \u001B[49m\u001B[43mevaluate_candidates\u001B[49m\u001B[43m,\u001B[49m\u001B[43m \u001B[49m\u001B[43mn_points\u001B[49m\u001B[38;5;241;43m=\u001B[39;49m\u001B[43mn_points_adjusted\u001B[49m\n\u001B[1;32m    515\u001B[0m \u001B[43m    \u001B[49m\u001B[43m)\u001B[49m\n\u001B[1;32m    516\u001B[0m     n_iter \u001B[38;5;241m-\u001B[39m\u001B[38;5;241m=\u001B[39m n_points\n\u001B[1;32m    518\u001B[0m     \u001B[38;5;28;01mif\u001B[39;00m eval_callbacks(callbacks, optim_result):\n",
      "File \u001B[0;32m/opt/conda/lib/python3.9/site-packages/skopt/searchcv.py:408\u001B[0m, in \u001B[0;36mBayesSearchCV._step\u001B[0;34m(self, search_space, optimizer, evaluate_candidates, n_points)\u001B[0m\n\u001B[1;32m    405\u001B[0m \u001B[38;5;66;03m# make lists into dictionaries\u001B[39;00m\n\u001B[1;32m    406\u001B[0m params_dict \u001B[38;5;241m=\u001B[39m [point_asdict(search_space, p) \u001B[38;5;28;01mfor\u001B[39;00m p \u001B[38;5;129;01min\u001B[39;00m params]\n\u001B[0;32m--> 408\u001B[0m all_results \u001B[38;5;241m=\u001B[39m \u001B[43mevaluate_candidates\u001B[49m\u001B[43m(\u001B[49m\u001B[43mparams_dict\u001B[49m\u001B[43m)\u001B[49m\n\u001B[1;32m    409\u001B[0m \u001B[38;5;66;03m# Feed the point and objective value back into optimizer\u001B[39;00m\n\u001B[1;32m    410\u001B[0m \u001B[38;5;66;03m# Optimizer minimizes objective, hence provide negative score\u001B[39;00m\n\u001B[1;32m    411\u001B[0m local_results \u001B[38;5;241m=\u001B[39m all_results[\u001B[38;5;124m\"\u001B[39m\u001B[38;5;124mmean_test_score\u001B[39m\u001B[38;5;124m\"\u001B[39m][\u001B[38;5;241m-\u001B[39m\u001B[38;5;28mlen\u001B[39m(params):]\n",
      "File \u001B[0;32m/opt/conda/lib/python3.9/site-packages/sklearn/model_selection/_search.py:838\u001B[0m, in \u001B[0;36mBaseSearchCV.fit.<locals>.evaluate_candidates\u001B[0;34m(candidate_params, cv, more_results)\u001B[0m\n\u001B[1;32m    830\u001B[0m \u001B[38;5;28;01mif\u001B[39;00m \u001B[38;5;28mself\u001B[39m\u001B[38;5;241m.\u001B[39mverbose \u001B[38;5;241m>\u001B[39m \u001B[38;5;241m0\u001B[39m:\n\u001B[1;32m    831\u001B[0m     \u001B[38;5;28mprint\u001B[39m(\n\u001B[1;32m    832\u001B[0m         \u001B[38;5;124m\"\u001B[39m\u001B[38;5;124mFitting \u001B[39m\u001B[38;5;132;01m{0}\u001B[39;00m\u001B[38;5;124m folds for each of \u001B[39m\u001B[38;5;132;01m{1}\u001B[39;00m\u001B[38;5;124m candidates,\u001B[39m\u001B[38;5;124m\"\u001B[39m\n\u001B[1;32m    833\u001B[0m         \u001B[38;5;124m\"\u001B[39m\u001B[38;5;124m totalling \u001B[39m\u001B[38;5;132;01m{2}\u001B[39;00m\u001B[38;5;124m fits\u001B[39m\u001B[38;5;124m\"\u001B[39m\u001B[38;5;241m.\u001B[39mformat(\n\u001B[1;32m    834\u001B[0m             n_splits, n_candidates, n_candidates \u001B[38;5;241m*\u001B[39m n_splits\n\u001B[1;32m    835\u001B[0m         )\n\u001B[1;32m    836\u001B[0m     )\n\u001B[0;32m--> 838\u001B[0m out \u001B[38;5;241m=\u001B[39m \u001B[43mparallel\u001B[49m\u001B[43m(\u001B[49m\n\u001B[1;32m    839\u001B[0m \u001B[43m    \u001B[49m\u001B[43mdelayed\u001B[49m\u001B[43m(\u001B[49m\u001B[43m_fit_and_score\u001B[49m\u001B[43m)\u001B[49m\u001B[43m(\u001B[49m\n\u001B[1;32m    840\u001B[0m \u001B[43m        \u001B[49m\u001B[43mclone\u001B[49m\u001B[43m(\u001B[49m\u001B[43mbase_estimator\u001B[49m\u001B[43m)\u001B[49m\u001B[43m,\u001B[49m\n\u001B[1;32m    841\u001B[0m \u001B[43m        \u001B[49m\u001B[43mX\u001B[49m\u001B[43m,\u001B[49m\n\u001B[1;32m    842\u001B[0m \u001B[43m        \u001B[49m\u001B[43my\u001B[49m\u001B[43m,\u001B[49m\n\u001B[1;32m    843\u001B[0m \u001B[43m        \u001B[49m\u001B[43mtrain\u001B[49m\u001B[38;5;241;43m=\u001B[39;49m\u001B[43mtrain\u001B[49m\u001B[43m,\u001B[49m\n\u001B[1;32m    844\u001B[0m \u001B[43m        \u001B[49m\u001B[43mtest\u001B[49m\u001B[38;5;241;43m=\u001B[39;49m\u001B[43mtest\u001B[49m\u001B[43m,\u001B[49m\n\u001B[1;32m    845\u001B[0m \u001B[43m        \u001B[49m\u001B[43mparameters\u001B[49m\u001B[38;5;241;43m=\u001B[39;49m\u001B[43mparameters\u001B[49m\u001B[43m,\u001B[49m\n\u001B[1;32m    846\u001B[0m \u001B[43m        \u001B[49m\u001B[43msplit_progress\u001B[49m\u001B[38;5;241;43m=\u001B[39;49m\u001B[43m(\u001B[49m\u001B[43msplit_idx\u001B[49m\u001B[43m,\u001B[49m\u001B[43m \u001B[49m\u001B[43mn_splits\u001B[49m\u001B[43m)\u001B[49m\u001B[43m,\u001B[49m\n\u001B[1;32m    847\u001B[0m \u001B[43m        \u001B[49m\u001B[43mcandidate_progress\u001B[49m\u001B[38;5;241;43m=\u001B[39;49m\u001B[43m(\u001B[49m\u001B[43mcand_idx\u001B[49m\u001B[43m,\u001B[49m\u001B[43m \u001B[49m\u001B[43mn_candidates\u001B[49m\u001B[43m)\u001B[49m\u001B[43m,\u001B[49m\n\u001B[1;32m    848\u001B[0m \u001B[43m        \u001B[49m\u001B[38;5;241;43m*\u001B[39;49m\u001B[38;5;241;43m*\u001B[39;49m\u001B[43mfit_and_score_kwargs\u001B[49m\u001B[43m,\u001B[49m\n\u001B[1;32m    849\u001B[0m \u001B[43m    \u001B[49m\u001B[43m)\u001B[49m\n\u001B[1;32m    850\u001B[0m \u001B[43m    \u001B[49m\u001B[38;5;28;43;01mfor\u001B[39;49;00m\u001B[43m \u001B[49m\u001B[43m(\u001B[49m\u001B[43mcand_idx\u001B[49m\u001B[43m,\u001B[49m\u001B[43m \u001B[49m\u001B[43mparameters\u001B[49m\u001B[43m)\u001B[49m\u001B[43m,\u001B[49m\u001B[43m \u001B[49m\u001B[43m(\u001B[49m\u001B[43msplit_idx\u001B[49m\u001B[43m,\u001B[49m\u001B[43m \u001B[49m\u001B[43m(\u001B[49m\u001B[43mtrain\u001B[49m\u001B[43m,\u001B[49m\u001B[43m \u001B[49m\u001B[43mtest\u001B[49m\u001B[43m)\u001B[49m\u001B[43m)\u001B[49m\u001B[43m \u001B[49m\u001B[38;5;129;43;01min\u001B[39;49;00m\u001B[43m \u001B[49m\u001B[43mproduct\u001B[49m\u001B[43m(\u001B[49m\n\u001B[1;32m    851\u001B[0m \u001B[43m        \u001B[49m\u001B[38;5;28;43menumerate\u001B[39;49m\u001B[43m(\u001B[49m\u001B[43mcandidate_params\u001B[49m\u001B[43m)\u001B[49m\u001B[43m,\u001B[49m\u001B[43m \u001B[49m\u001B[38;5;28;43menumerate\u001B[39;49m\u001B[43m(\u001B[49m\u001B[43mcv\u001B[49m\u001B[38;5;241;43m.\u001B[39;49m\u001B[43msplit\u001B[49m\u001B[43m(\u001B[49m\u001B[43mX\u001B[49m\u001B[43m,\u001B[49m\u001B[43m \u001B[49m\u001B[43my\u001B[49m\u001B[43m,\u001B[49m\u001B[43m \u001B[49m\u001B[43mgroups\u001B[49m\u001B[43m)\u001B[49m\u001B[43m)\u001B[49m\n\u001B[1;32m    852\u001B[0m \u001B[43m    \u001B[49m\u001B[43m)\u001B[49m\n\u001B[1;32m    853\u001B[0m \u001B[43m\u001B[49m\u001B[43m)\u001B[49m\n\u001B[1;32m    855\u001B[0m \u001B[38;5;28;01mif\u001B[39;00m \u001B[38;5;28mlen\u001B[39m(out) \u001B[38;5;241m<\u001B[39m \u001B[38;5;241m1\u001B[39m:\n\u001B[1;32m    856\u001B[0m     \u001B[38;5;28;01mraise\u001B[39;00m \u001B[38;5;167;01mValueError\u001B[39;00m(\n\u001B[1;32m    857\u001B[0m         \u001B[38;5;124m\"\u001B[39m\u001B[38;5;124mNo fits were performed. \u001B[39m\u001B[38;5;124m\"\u001B[39m\n\u001B[1;32m    858\u001B[0m         \u001B[38;5;124m\"\u001B[39m\u001B[38;5;124mWas the CV iterator empty? \u001B[39m\u001B[38;5;124m\"\u001B[39m\n\u001B[1;32m    859\u001B[0m         \u001B[38;5;124m\"\u001B[39m\u001B[38;5;124mWere there no candidates?\u001B[39m\u001B[38;5;124m\"\u001B[39m\n\u001B[1;32m    860\u001B[0m     )\n",
      "File \u001B[0;32m/opt/conda/lib/python3.9/site-packages/joblib/parallel.py:1043\u001B[0m, in \u001B[0;36mParallel.__call__\u001B[0;34m(self, iterable)\u001B[0m\n\u001B[1;32m   1034\u001B[0m \u001B[38;5;28;01mtry\u001B[39;00m:\n\u001B[1;32m   1035\u001B[0m     \u001B[38;5;66;03m# Only set self._iterating to True if at least a batch\u001B[39;00m\n\u001B[1;32m   1036\u001B[0m     \u001B[38;5;66;03m# was dispatched. In particular this covers the edge\u001B[39;00m\n\u001B[0;32m   (...)\u001B[0m\n\u001B[1;32m   1040\u001B[0m     \u001B[38;5;66;03m# was very quick and its callback already dispatched all the\u001B[39;00m\n\u001B[1;32m   1041\u001B[0m     \u001B[38;5;66;03m# remaining jobs.\u001B[39;00m\n\u001B[1;32m   1042\u001B[0m     \u001B[38;5;28mself\u001B[39m\u001B[38;5;241m.\u001B[39m_iterating \u001B[38;5;241m=\u001B[39m \u001B[38;5;28;01mFalse\u001B[39;00m\n\u001B[0;32m-> 1043\u001B[0m     \u001B[38;5;28;01mif\u001B[39;00m \u001B[38;5;28;43mself\u001B[39;49m\u001B[38;5;241;43m.\u001B[39;49m\u001B[43mdispatch_one_batch\u001B[49m\u001B[43m(\u001B[49m\u001B[43miterator\u001B[49m\u001B[43m)\u001B[49m:\n\u001B[1;32m   1044\u001B[0m         \u001B[38;5;28mself\u001B[39m\u001B[38;5;241m.\u001B[39m_iterating \u001B[38;5;241m=\u001B[39m \u001B[38;5;28mself\u001B[39m\u001B[38;5;241m.\u001B[39m_original_iterator \u001B[38;5;129;01mis\u001B[39;00m \u001B[38;5;129;01mnot\u001B[39;00m \u001B[38;5;28;01mNone\u001B[39;00m\n\u001B[1;32m   1046\u001B[0m     \u001B[38;5;28;01mwhile\u001B[39;00m \u001B[38;5;28mself\u001B[39m\u001B[38;5;241m.\u001B[39mdispatch_one_batch(iterator):\n",
      "File \u001B[0;32m/opt/conda/lib/python3.9/site-packages/joblib/parallel.py:833\u001B[0m, in \u001B[0;36mParallel.dispatch_one_batch\u001B[0;34m(self, iterator)\u001B[0m\n\u001B[1;32m    830\u001B[0m n_jobs \u001B[38;5;241m=\u001B[39m \u001B[38;5;28mself\u001B[39m\u001B[38;5;241m.\u001B[39m_cached_effective_n_jobs\n\u001B[1;32m    831\u001B[0m big_batch_size \u001B[38;5;241m=\u001B[39m batch_size \u001B[38;5;241m*\u001B[39m n_jobs\n\u001B[0;32m--> 833\u001B[0m islice \u001B[38;5;241m=\u001B[39m \u001B[38;5;28;43mlist\u001B[39;49m\u001B[43m(\u001B[49m\u001B[43mitertools\u001B[49m\u001B[38;5;241;43m.\u001B[39;49m\u001B[43mislice\u001B[49m\u001B[43m(\u001B[49m\u001B[43miterator\u001B[49m\u001B[43m,\u001B[49m\u001B[43m \u001B[49m\u001B[43mbig_batch_size\u001B[49m\u001B[43m)\u001B[49m\u001B[43m)\u001B[49m\n\u001B[1;32m    834\u001B[0m \u001B[38;5;28;01mif\u001B[39;00m \u001B[38;5;28mlen\u001B[39m(islice) \u001B[38;5;241m==\u001B[39m \u001B[38;5;241m0\u001B[39m:\n\u001B[1;32m    835\u001B[0m     \u001B[38;5;28;01mreturn\u001B[39;00m \u001B[38;5;28;01mFalse\u001B[39;00m\n",
      "File \u001B[0;32m/opt/conda/lib/python3.9/site-packages/sklearn/model_selection/_search.py:840\u001B[0m, in \u001B[0;36m<genexpr>\u001B[0;34m(.0)\u001B[0m\n\u001B[1;32m    830\u001B[0m \u001B[38;5;28;01mif\u001B[39;00m \u001B[38;5;28mself\u001B[39m\u001B[38;5;241m.\u001B[39mverbose \u001B[38;5;241m>\u001B[39m \u001B[38;5;241m0\u001B[39m:\n\u001B[1;32m    831\u001B[0m     \u001B[38;5;28mprint\u001B[39m(\n\u001B[1;32m    832\u001B[0m         \u001B[38;5;124m\"\u001B[39m\u001B[38;5;124mFitting \u001B[39m\u001B[38;5;132;01m{0}\u001B[39;00m\u001B[38;5;124m folds for each of \u001B[39m\u001B[38;5;132;01m{1}\u001B[39;00m\u001B[38;5;124m candidates,\u001B[39m\u001B[38;5;124m\"\u001B[39m\n\u001B[1;32m    833\u001B[0m         \u001B[38;5;124m\"\u001B[39m\u001B[38;5;124m totalling \u001B[39m\u001B[38;5;132;01m{2}\u001B[39;00m\u001B[38;5;124m fits\u001B[39m\u001B[38;5;124m\"\u001B[39m\u001B[38;5;241m.\u001B[39mformat(\n\u001B[1;32m    834\u001B[0m             n_splits, n_candidates, n_candidates \u001B[38;5;241m*\u001B[39m n_splits\n\u001B[1;32m    835\u001B[0m         )\n\u001B[1;32m    836\u001B[0m     )\n\u001B[1;32m    838\u001B[0m out \u001B[38;5;241m=\u001B[39m parallel(\n\u001B[1;32m    839\u001B[0m     delayed(_fit_and_score)(\n\u001B[0;32m--> 840\u001B[0m         \u001B[43mclone\u001B[49m\u001B[43m(\u001B[49m\u001B[43mbase_estimator\u001B[49m\u001B[43m)\u001B[49m,\n\u001B[1;32m    841\u001B[0m         X,\n\u001B[1;32m    842\u001B[0m         y,\n\u001B[1;32m    843\u001B[0m         train\u001B[38;5;241m=\u001B[39mtrain,\n\u001B[1;32m    844\u001B[0m         test\u001B[38;5;241m=\u001B[39mtest,\n\u001B[1;32m    845\u001B[0m         parameters\u001B[38;5;241m=\u001B[39mparameters,\n\u001B[1;32m    846\u001B[0m         split_progress\u001B[38;5;241m=\u001B[39m(split_idx, n_splits),\n\u001B[1;32m    847\u001B[0m         candidate_progress\u001B[38;5;241m=\u001B[39m(cand_idx, n_candidates),\n\u001B[1;32m    848\u001B[0m         \u001B[38;5;241m*\u001B[39m\u001B[38;5;241m*\u001B[39mfit_and_score_kwargs,\n\u001B[1;32m    849\u001B[0m     )\n\u001B[1;32m    850\u001B[0m     \u001B[38;5;28;01mfor\u001B[39;00m (cand_idx, parameters), (split_idx, (train, test)) \u001B[38;5;129;01min\u001B[39;00m product(\n\u001B[1;32m    851\u001B[0m         \u001B[38;5;28menumerate\u001B[39m(candidate_params), \u001B[38;5;28menumerate\u001B[39m(cv\u001B[38;5;241m.\u001B[39msplit(X, y, groups))\n\u001B[1;32m    852\u001B[0m     )\n\u001B[1;32m    853\u001B[0m )\n\u001B[1;32m    855\u001B[0m \u001B[38;5;28;01mif\u001B[39;00m \u001B[38;5;28mlen\u001B[39m(out) \u001B[38;5;241m<\u001B[39m \u001B[38;5;241m1\u001B[39m:\n\u001B[1;32m    856\u001B[0m     \u001B[38;5;28;01mraise\u001B[39;00m \u001B[38;5;167;01mValueError\u001B[39;00m(\n\u001B[1;32m    857\u001B[0m         \u001B[38;5;124m\"\u001B[39m\u001B[38;5;124mNo fits were performed. \u001B[39m\u001B[38;5;124m\"\u001B[39m\n\u001B[1;32m    858\u001B[0m         \u001B[38;5;124m\"\u001B[39m\u001B[38;5;124mWas the CV iterator empty? \u001B[39m\u001B[38;5;124m\"\u001B[39m\n\u001B[1;32m    859\u001B[0m         \u001B[38;5;124m\"\u001B[39m\u001B[38;5;124mWere there no candidates?\u001B[39m\u001B[38;5;124m\"\u001B[39m\n\u001B[1;32m    860\u001B[0m     )\n",
      "File \u001B[0;32m/opt/conda/lib/python3.9/site-packages/sklearn/base.py:84\u001B[0m, in \u001B[0;36mclone\u001B[0;34m(estimator, safe)\u001B[0m\n\u001B[1;32m     76\u001B[0m             \u001B[38;5;28;01mraise\u001B[39;00m \u001B[38;5;167;01mTypeError\u001B[39;00m(\n\u001B[1;32m     77\u001B[0m                 \u001B[38;5;124m\"\u001B[39m\u001B[38;5;124mCannot clone object \u001B[39m\u001B[38;5;124m'\u001B[39m\u001B[38;5;132;01m%s\u001B[39;00m\u001B[38;5;124m'\u001B[39m\u001B[38;5;124m (type \u001B[39m\u001B[38;5;132;01m%s\u001B[39;00m\u001B[38;5;124m): \u001B[39m\u001B[38;5;124m\"\u001B[39m\n\u001B[1;32m     78\u001B[0m                 \u001B[38;5;124m\"\u001B[39m\u001B[38;5;124mit does not seem to be a scikit-learn \u001B[39m\u001B[38;5;124m\"\u001B[39m\n\u001B[1;32m     79\u001B[0m                 \u001B[38;5;124m\"\u001B[39m\u001B[38;5;124mestimator as it does not implement a \u001B[39m\u001B[38;5;124m\"\u001B[39m\n\u001B[1;32m     80\u001B[0m                 \u001B[38;5;124m\"\u001B[39m\u001B[38;5;124m'\u001B[39m\u001B[38;5;124mget_params\u001B[39m\u001B[38;5;124m'\u001B[39m\u001B[38;5;124m method.\u001B[39m\u001B[38;5;124m\"\u001B[39m \u001B[38;5;241m%\u001B[39m (\u001B[38;5;28mrepr\u001B[39m(estimator), \u001B[38;5;28mtype\u001B[39m(estimator))\n\u001B[1;32m     81\u001B[0m             )\n\u001B[1;32m     83\u001B[0m klass \u001B[38;5;241m=\u001B[39m estimator\u001B[38;5;241m.\u001B[39m\u001B[38;5;18m__class__\u001B[39m\n\u001B[0;32m---> 84\u001B[0m new_object_params \u001B[38;5;241m=\u001B[39m \u001B[43mestimator\u001B[49m\u001B[38;5;241;43m.\u001B[39;49m\u001B[43mget_params\u001B[49m\u001B[43m(\u001B[49m\u001B[43mdeep\u001B[49m\u001B[38;5;241;43m=\u001B[39;49m\u001B[38;5;28;43;01mFalse\u001B[39;49;00m\u001B[43m)\u001B[49m\n\u001B[1;32m     85\u001B[0m \u001B[38;5;28;01mfor\u001B[39;00m name, param \u001B[38;5;129;01min\u001B[39;00m new_object_params\u001B[38;5;241m.\u001B[39mitems():\n\u001B[1;32m     86\u001B[0m     new_object_params[name] \u001B[38;5;241m=\u001B[39m clone(param, safe\u001B[38;5;241m=\u001B[39m\u001B[38;5;28;01mFalse\u001B[39;00m)\n",
      "File \u001B[0;32m/opt/conda/lib/python3.9/site-packages/xgboost/sklearn.py:505\u001B[0m, in \u001B[0;36mXGBModel.get_params\u001B[0;34m(self, deep)\u001B[0m\n\u001B[1;32m    503\u001B[0m cp \u001B[38;5;241m=\u001B[39m copy\u001B[38;5;241m.\u001B[39mcopy(\u001B[38;5;28mself\u001B[39m)\n\u001B[1;32m    504\u001B[0m cp\u001B[38;5;241m.\u001B[39m\u001B[38;5;18m__class__\u001B[39m \u001B[38;5;241m=\u001B[39m cp\u001B[38;5;241m.\u001B[39m\u001B[38;5;18m__class__\u001B[39m\u001B[38;5;241m.\u001B[39m\u001B[38;5;18m__bases__\u001B[39m[\u001B[38;5;241m0\u001B[39m]\n\u001B[0;32m--> 505\u001B[0m params\u001B[38;5;241m.\u001B[39mupdate(\u001B[43mcp\u001B[49m\u001B[38;5;241;43m.\u001B[39;49m\u001B[38;5;18;43m__class__\u001B[39;49m\u001B[38;5;241;43m.\u001B[39;49m\u001B[43mget_params\u001B[49m\u001B[43m(\u001B[49m\u001B[43mcp\u001B[49m\u001B[43m,\u001B[49m\u001B[43m \u001B[49m\u001B[43mdeep\u001B[49m\u001B[43m)\u001B[49m)\n\u001B[1;32m    506\u001B[0m \u001B[38;5;66;03m# if kwargs is a dict, update params accordingly\u001B[39;00m\n\u001B[1;32m    507\u001B[0m \u001B[38;5;28;01mif\u001B[39;00m \u001B[38;5;28mhasattr\u001B[39m(\u001B[38;5;28mself\u001B[39m, \u001B[38;5;124m\"\u001B[39m\u001B[38;5;124mkwargs\u001B[39m\u001B[38;5;124m\"\u001B[39m) \u001B[38;5;129;01mand\u001B[39;00m \u001B[38;5;28misinstance\u001B[39m(\u001B[38;5;28mself\u001B[39m\u001B[38;5;241m.\u001B[39mkwargs, \u001B[38;5;28mdict\u001B[39m):\n",
      "File \u001B[0;32m/opt/conda/lib/python3.9/site-packages/xgboost/sklearn.py:505\u001B[0m, in \u001B[0;36mXGBModel.get_params\u001B[0;34m(self, deep)\u001B[0m\n\u001B[1;32m    503\u001B[0m cp \u001B[38;5;241m=\u001B[39m copy\u001B[38;5;241m.\u001B[39mcopy(\u001B[38;5;28mself\u001B[39m)\n\u001B[1;32m    504\u001B[0m cp\u001B[38;5;241m.\u001B[39m\u001B[38;5;18m__class__\u001B[39m \u001B[38;5;241m=\u001B[39m cp\u001B[38;5;241m.\u001B[39m\u001B[38;5;18m__class__\u001B[39m\u001B[38;5;241m.\u001B[39m\u001B[38;5;18m__bases__\u001B[39m[\u001B[38;5;241m0\u001B[39m]\n\u001B[0;32m--> 505\u001B[0m params\u001B[38;5;241m.\u001B[39mupdate(\u001B[43mcp\u001B[49m\u001B[38;5;241;43m.\u001B[39;49m\u001B[38;5;18;43m__class__\u001B[39;49m\u001B[38;5;241;43m.\u001B[39;49m\u001B[43mget_params\u001B[49m\u001B[43m(\u001B[49m\u001B[43mcp\u001B[49m\u001B[43m,\u001B[49m\u001B[43m \u001B[49m\u001B[43mdeep\u001B[49m\u001B[43m)\u001B[49m)\n\u001B[1;32m    506\u001B[0m \u001B[38;5;66;03m# if kwargs is a dict, update params accordingly\u001B[39;00m\n\u001B[1;32m    507\u001B[0m \u001B[38;5;28;01mif\u001B[39;00m \u001B[38;5;28mhasattr\u001B[39m(\u001B[38;5;28mself\u001B[39m, \u001B[38;5;124m\"\u001B[39m\u001B[38;5;124mkwargs\u001B[39m\u001B[38;5;124m\"\u001B[39m) \u001B[38;5;129;01mand\u001B[39;00m \u001B[38;5;28misinstance\u001B[39m(\u001B[38;5;28mself\u001B[39m\u001B[38;5;241m.\u001B[39mkwargs, \u001B[38;5;28mdict\u001B[39m):\n",
      "File \u001B[0;32m/opt/conda/lib/python3.9/site-packages/xgboost/sklearn.py:502\u001B[0m, in \u001B[0;36mXGBModel.get_params\u001B[0;34m(self, deep)\u001B[0m\n\u001B[1;32m    495\u001B[0m \u001B[38;5;124;03m\"\"\"Get parameters.\"\"\"\u001B[39;00m\n\u001B[1;32m    496\u001B[0m \u001B[38;5;66;03m# Based on: https://stackoverflow.com/questions/59248211\u001B[39;00m\n\u001B[1;32m    497\u001B[0m \u001B[38;5;66;03m# The basic flow in `get_params` is:\u001B[39;00m\n\u001B[1;32m    498\u001B[0m \u001B[38;5;66;03m# 0. Return parameters in subclass first, by using inspect.\u001B[39;00m\n\u001B[1;32m    499\u001B[0m \u001B[38;5;66;03m# 1. Return parameters in `XGBModel` (the base class).\u001B[39;00m\n\u001B[1;32m    500\u001B[0m \u001B[38;5;66;03m# 2. Return whatever in `**kwargs`.\u001B[39;00m\n\u001B[1;32m    501\u001B[0m \u001B[38;5;66;03m# 3. Merge them.\u001B[39;00m\n\u001B[0;32m--> 502\u001B[0m params \u001B[38;5;241m=\u001B[39m \u001B[38;5;28;43msuper\u001B[39;49m\u001B[43m(\u001B[49m\u001B[43m)\u001B[49m\u001B[38;5;241;43m.\u001B[39;49m\u001B[43mget_params\u001B[49m\u001B[43m(\u001B[49m\u001B[43mdeep\u001B[49m\u001B[43m)\u001B[49m\n\u001B[1;32m    503\u001B[0m cp \u001B[38;5;241m=\u001B[39m copy\u001B[38;5;241m.\u001B[39mcopy(\u001B[38;5;28mself\u001B[39m)\n\u001B[1;32m    504\u001B[0m cp\u001B[38;5;241m.\u001B[39m\u001B[38;5;18m__class__\u001B[39m \u001B[38;5;241m=\u001B[39m cp\u001B[38;5;241m.\u001B[39m\u001B[38;5;18m__class__\u001B[39m\u001B[38;5;241m.\u001B[39m\u001B[38;5;18m__bases__\u001B[39m[\u001B[38;5;241m0\u001B[39m]\n",
      "File \u001B[0;32m/opt/conda/lib/python3.9/site-packages/sklearn/base.py:209\u001B[0m, in \u001B[0;36mBaseEstimator.get_params\u001B[0;34m(self, deep)\u001B[0m\n\u001B[1;32m    194\u001B[0m \u001B[38;5;124;03m\"\"\"\u001B[39;00m\n\u001B[1;32m    195\u001B[0m \u001B[38;5;124;03mGet parameters for this estimator.\u001B[39;00m\n\u001B[1;32m    196\u001B[0m \n\u001B[0;32m   (...)\u001B[0m\n\u001B[1;32m    206\u001B[0m \u001B[38;5;124;03m    Parameter names mapped to their values.\u001B[39;00m\n\u001B[1;32m    207\u001B[0m \u001B[38;5;124;03m\"\"\"\u001B[39;00m\n\u001B[1;32m    208\u001B[0m out \u001B[38;5;241m=\u001B[39m \u001B[38;5;28mdict\u001B[39m()\n\u001B[0;32m--> 209\u001B[0m \u001B[38;5;28;01mfor\u001B[39;00m key \u001B[38;5;129;01min\u001B[39;00m \u001B[38;5;28;43mself\u001B[39;49m\u001B[38;5;241;43m.\u001B[39;49m\u001B[43m_get_param_names\u001B[49m\u001B[43m(\u001B[49m\u001B[43m)\u001B[49m:\n\u001B[1;32m    210\u001B[0m     value \u001B[38;5;241m=\u001B[39m \u001B[38;5;28mgetattr\u001B[39m(\u001B[38;5;28mself\u001B[39m, key)\n\u001B[1;32m    211\u001B[0m     \u001B[38;5;28;01mif\u001B[39;00m deep \u001B[38;5;129;01mand\u001B[39;00m \u001B[38;5;28mhasattr\u001B[39m(value, \u001B[38;5;124m\"\u001B[39m\u001B[38;5;124mget_params\u001B[39m\u001B[38;5;124m\"\u001B[39m):\n",
      "File \u001B[0;32m/opt/conda/lib/python3.9/site-packages/sklearn/base.py:174\u001B[0m, in \u001B[0;36mBaseEstimator._get_param_names\u001B[0;34m(cls)\u001B[0m\n\u001B[1;32m    170\u001B[0m     \u001B[38;5;28;01mreturn\u001B[39;00m []\n\u001B[1;32m    172\u001B[0m \u001B[38;5;66;03m# introspect the constructor arguments to find the model parameters\u001B[39;00m\n\u001B[1;32m    173\u001B[0m \u001B[38;5;66;03m# to represent\u001B[39;00m\n\u001B[0;32m--> 174\u001B[0m init_signature \u001B[38;5;241m=\u001B[39m \u001B[43minspect\u001B[49m\u001B[38;5;241;43m.\u001B[39;49m\u001B[43msignature\u001B[49m\u001B[43m(\u001B[49m\u001B[43minit\u001B[49m\u001B[43m)\u001B[49m\n\u001B[1;32m    175\u001B[0m \u001B[38;5;66;03m# Consider the constructor parameters excluding 'self'\u001B[39;00m\n\u001B[1;32m    176\u001B[0m parameters \u001B[38;5;241m=\u001B[39m [\n\u001B[1;32m    177\u001B[0m     p\n\u001B[1;32m    178\u001B[0m     \u001B[38;5;28;01mfor\u001B[39;00m p \u001B[38;5;129;01min\u001B[39;00m init_signature\u001B[38;5;241m.\u001B[39mparameters\u001B[38;5;241m.\u001B[39mvalues()\n\u001B[1;32m    179\u001B[0m     \u001B[38;5;28;01mif\u001B[39;00m p\u001B[38;5;241m.\u001B[39mname \u001B[38;5;241m!=\u001B[39m \u001B[38;5;124m\"\u001B[39m\u001B[38;5;124mself\u001B[39m\u001B[38;5;124m\"\u001B[39m \u001B[38;5;129;01mand\u001B[39;00m p\u001B[38;5;241m.\u001B[39mkind \u001B[38;5;241m!=\u001B[39m p\u001B[38;5;241m.\u001B[39mVAR_KEYWORD\n\u001B[1;32m    180\u001B[0m ]\n",
      "File \u001B[0;32m/opt/conda/lib/python3.9/inspect.py:3113\u001B[0m, in \u001B[0;36msignature\u001B[0;34m(obj, follow_wrapped)\u001B[0m\n\u001B[1;32m   3111\u001B[0m \u001B[38;5;28;01mdef\u001B[39;00m \u001B[38;5;21msignature\u001B[39m(obj, \u001B[38;5;241m*\u001B[39m, follow_wrapped\u001B[38;5;241m=\u001B[39m\u001B[38;5;28;01mTrue\u001B[39;00m):\n\u001B[1;32m   3112\u001B[0m     \u001B[38;5;124;03m\"\"\"Get a signature object for the passed callable.\"\"\"\u001B[39;00m\n\u001B[0;32m-> 3113\u001B[0m     \u001B[38;5;28;01mreturn\u001B[39;00m \u001B[43mSignature\u001B[49m\u001B[38;5;241;43m.\u001B[39;49m\u001B[43mfrom_callable\u001B[49m\u001B[43m(\u001B[49m\u001B[43mobj\u001B[49m\u001B[43m,\u001B[49m\u001B[43m \u001B[49m\u001B[43mfollow_wrapped\u001B[49m\u001B[38;5;241;43m=\u001B[39;49m\u001B[43mfollow_wrapped\u001B[49m\u001B[43m)\u001B[49m\n",
      "File \u001B[0;32m/opt/conda/lib/python3.9/inspect.py:2862\u001B[0m, in \u001B[0;36mSignature.from_callable\u001B[0;34m(cls, obj, follow_wrapped)\u001B[0m\n\u001B[1;32m   2859\u001B[0m \u001B[38;5;129m@classmethod\u001B[39m\n\u001B[1;32m   2860\u001B[0m \u001B[38;5;28;01mdef\u001B[39;00m \u001B[38;5;21mfrom_callable\u001B[39m(\u001B[38;5;28mcls\u001B[39m, obj, \u001B[38;5;241m*\u001B[39m, follow_wrapped\u001B[38;5;241m=\u001B[39m\u001B[38;5;28;01mTrue\u001B[39;00m):\n\u001B[1;32m   2861\u001B[0m     \u001B[38;5;124;03m\"\"\"Constructs Signature for the given callable object.\"\"\"\u001B[39;00m\n\u001B[0;32m-> 2862\u001B[0m     \u001B[38;5;28;01mreturn\u001B[39;00m \u001B[43m_signature_from_callable\u001B[49m\u001B[43m(\u001B[49m\u001B[43mobj\u001B[49m\u001B[43m,\u001B[49m\u001B[43m \u001B[49m\u001B[43msigcls\u001B[49m\u001B[38;5;241;43m=\u001B[39;49m\u001B[38;5;28;43mcls\u001B[39;49m\u001B[43m,\u001B[49m\n\u001B[1;32m   2863\u001B[0m \u001B[43m                                    \u001B[49m\u001B[43mfollow_wrapper_chains\u001B[49m\u001B[38;5;241;43m=\u001B[39;49m\u001B[43mfollow_wrapped\u001B[49m\u001B[43m)\u001B[49m\n",
      "File \u001B[0;32m/opt/conda/lib/python3.9/inspect.py:2325\u001B[0m, in \u001B[0;36m_signature_from_callable\u001B[0;34m(obj, follow_wrapper_chains, skip_bound_arg, sigcls)\u001B[0m\n\u001B[1;32m   2320\u001B[0m             \u001B[38;5;28;01mreturn\u001B[39;00m sig\u001B[38;5;241m.\u001B[39mreplace(parameters\u001B[38;5;241m=\u001B[39mnew_params)\n\u001B[1;32m   2322\u001B[0m \u001B[38;5;28;01mif\u001B[39;00m isfunction(obj) \u001B[38;5;129;01mor\u001B[39;00m _signature_is_functionlike(obj):\n\u001B[1;32m   2323\u001B[0m     \u001B[38;5;66;03m# If it's a pure Python function, or an object that is duck type\u001B[39;00m\n\u001B[1;32m   2324\u001B[0m     \u001B[38;5;66;03m# of a Python function (Cython functions, for instance), then:\u001B[39;00m\n\u001B[0;32m-> 2325\u001B[0m     \u001B[38;5;28;01mreturn\u001B[39;00m \u001B[43m_signature_from_function\u001B[49m\u001B[43m(\u001B[49m\u001B[43msigcls\u001B[49m\u001B[43m,\u001B[49m\u001B[43m \u001B[49m\u001B[43mobj\u001B[49m\u001B[43m,\u001B[49m\n\u001B[1;32m   2326\u001B[0m \u001B[43m                                    \u001B[49m\u001B[43mskip_bound_arg\u001B[49m\u001B[38;5;241;43m=\u001B[39;49m\u001B[43mskip_bound_arg\u001B[49m\u001B[43m)\u001B[49m\n\u001B[1;32m   2328\u001B[0m \u001B[38;5;28;01mif\u001B[39;00m _signature_is_builtin(obj):\n\u001B[1;32m   2329\u001B[0m     \u001B[38;5;28;01mreturn\u001B[39;00m _signature_from_builtin(sigcls, obj,\n\u001B[1;32m   2330\u001B[0m                                    skip_bound_arg\u001B[38;5;241m=\u001B[39mskip_bound_arg)\n",
      "File \u001B[0;32m/opt/conda/lib/python3.9/inspect.py:2205\u001B[0m, in \u001B[0;36m_signature_from_function\u001B[0;34m(cls, func, skip_bound_arg)\u001B[0m\n\u001B[1;32m   2203\u001B[0m kind \u001B[38;5;241m=\u001B[39m _POSITIONAL_ONLY \u001B[38;5;28;01mif\u001B[39;00m posonly_left \u001B[38;5;28;01melse\u001B[39;00m _POSITIONAL_OR_KEYWORD\n\u001B[1;32m   2204\u001B[0m annotation \u001B[38;5;241m=\u001B[39m annotations\u001B[38;5;241m.\u001B[39mget(name, _empty)\n\u001B[0;32m-> 2205\u001B[0m parameters\u001B[38;5;241m.\u001B[39mappend(\u001B[43mParameter\u001B[49m\u001B[43m(\u001B[49m\u001B[43mname\u001B[49m\u001B[43m,\u001B[49m\u001B[43m \u001B[49m\u001B[43mannotation\u001B[49m\u001B[38;5;241;43m=\u001B[39;49m\u001B[43mannotation\u001B[49m\u001B[43m,\u001B[49m\n\u001B[1;32m   2206\u001B[0m \u001B[43m                            \u001B[49m\u001B[43mkind\u001B[49m\u001B[38;5;241;43m=\u001B[39;49m\u001B[43mkind\u001B[49m\u001B[43m,\u001B[49m\n\u001B[1;32m   2207\u001B[0m \u001B[43m                            \u001B[49m\u001B[43mdefault\u001B[49m\u001B[38;5;241;43m=\u001B[39;49m\u001B[43mdefaults\u001B[49m\u001B[43m[\u001B[49m\u001B[43moffset\u001B[49m\u001B[43m]\u001B[49m\u001B[43m)\u001B[49m)\n\u001B[1;32m   2208\u001B[0m \u001B[38;5;28;01mif\u001B[39;00m posonly_left:\n\u001B[1;32m   2209\u001B[0m     posonly_left \u001B[38;5;241m-\u001B[39m\u001B[38;5;241m=\u001B[39m \u001B[38;5;241m1\u001B[39m\n",
      "File \u001B[0;32m/opt/conda/lib/python3.9/inspect.py:2500\u001B[0m, in \u001B[0;36mParameter.__init__\u001B[0;34m(self, name, kind, default, annotation)\u001B[0m\n\u001B[1;32m   2498\u001B[0m \u001B[38;5;28;01mdef\u001B[39;00m \u001B[38;5;21m__init__\u001B[39m(\u001B[38;5;28mself\u001B[39m, name, kind, \u001B[38;5;241m*\u001B[39m, default\u001B[38;5;241m=\u001B[39m_empty, annotation\u001B[38;5;241m=\u001B[39m_empty):\n\u001B[1;32m   2499\u001B[0m     \u001B[38;5;28;01mtry\u001B[39;00m:\n\u001B[0;32m-> 2500\u001B[0m         \u001B[38;5;28mself\u001B[39m\u001B[38;5;241m.\u001B[39m_kind \u001B[38;5;241m=\u001B[39m \u001B[43m_ParameterKind\u001B[49m\u001B[43m(\u001B[49m\u001B[43mkind\u001B[49m\u001B[43m)\u001B[49m\n\u001B[1;32m   2501\u001B[0m     \u001B[38;5;28;01mexcept\u001B[39;00m \u001B[38;5;167;01mValueError\u001B[39;00m:\n\u001B[1;32m   2502\u001B[0m         \u001B[38;5;28;01mraise\u001B[39;00m \u001B[38;5;167;01mValueError\u001B[39;00m(\u001B[38;5;124mf\u001B[39m\u001B[38;5;124m'\u001B[39m\u001B[38;5;124mvalue \u001B[39m\u001B[38;5;132;01m{\u001B[39;00mkind\u001B[38;5;132;01m!r}\u001B[39;00m\u001B[38;5;124m is not a valid Parameter.kind\u001B[39m\u001B[38;5;124m'\u001B[39m)\n",
      "File \u001B[0;32m/opt/conda/lib/python3.9/enum.py:384\u001B[0m, in \u001B[0;36mEnumMeta.__call__\u001B[0;34m(cls, value, names, module, qualname, type, start)\u001B[0m\n\u001B[1;32m    359\u001B[0m \u001B[38;5;124;03m\"\"\"\u001B[39;00m\n\u001B[1;32m    360\u001B[0m \u001B[38;5;124;03mEither returns an existing member, or creates a new enum class.\u001B[39;00m\n\u001B[1;32m    361\u001B[0m \n\u001B[0;32m   (...)\u001B[0m\n\u001B[1;32m    381\u001B[0m \u001B[38;5;124;03m`type`, if set, will be mixed in as the first base class.\u001B[39;00m\n\u001B[1;32m    382\u001B[0m \u001B[38;5;124;03m\"\"\"\u001B[39;00m\n\u001B[1;32m    383\u001B[0m \u001B[38;5;28;01mif\u001B[39;00m names \u001B[38;5;129;01mis\u001B[39;00m \u001B[38;5;28;01mNone\u001B[39;00m:  \u001B[38;5;66;03m# simple value lookup\u001B[39;00m\n\u001B[0;32m--> 384\u001B[0m     \u001B[38;5;28;01mreturn\u001B[39;00m \u001B[38;5;28;43mcls\u001B[39;49m\u001B[38;5;241;43m.\u001B[39;49m\u001B[38;5;21;43m__new__\u001B[39;49m(\u001B[38;5;28mcls\u001B[39m, value)\n\u001B[1;32m    385\u001B[0m \u001B[38;5;66;03m# otherwise, functional API: we're creating a new Enum type\u001B[39;00m\n\u001B[1;32m    386\u001B[0m \u001B[38;5;28;01mreturn\u001B[39;00m \u001B[38;5;28mcls\u001B[39m\u001B[38;5;241m.\u001B[39m_create_(\n\u001B[1;32m    387\u001B[0m         value,\n\u001B[1;32m    388\u001B[0m         names,\n\u001B[0;32m   (...)\u001B[0m\n\u001B[1;32m    392\u001B[0m         start\u001B[38;5;241m=\u001B[39mstart,\n\u001B[1;32m    393\u001B[0m         )\n",
      "\u001B[0;31mKeyboardInterrupt\u001B[0m: "
     ]
    }
   ],
   "source": [
    "cv = RepeatedStratifiedKFold(n_splits=5, n_repeats=2, random_state=42)\n",
    "#cv = StratifiedKFold(n_splits=5)\n",
    "\n",
    "search = BayesSearchCV(estimator=XGBRFClassifier(use_label_encoder=False,verbosity=0,), \n",
    "                       search_spaces=params, cv=cv, scoring='f1', refit='f1', n_iter=500, \n",
    "                       n_jobs=8, verbose=1, random_state=42, return_train_score=True)\n",
    "search.fit(X_res.values, y_res)\n",
    "# report the best result\n",
    "print(search.best_score_)\n",
    "print(search.best_params_)\n",
    "\n",
    "bp = search.best_params_\n",
    "hp = list(bp.keys())\n",
    "v = list(bp.values())"
   ]
  },
  {
   "cell_type": "code",
   "execution_count": null,
   "id": "260281dd-8af8-4688-8747-5663141079fb",
   "metadata": {
    "pycharm": {
     "name": "#%%\n"
    }
   },
   "outputs": [],
   "source": [
    "clf = XGBRFClassifier(n_estimators=bp[\"n_estimators\"], \n",
    "                             criterion=bp[\"criterion\"], \n",
    "                             max_depth=bp[\"max_depth\"], \n",
    "                             min_samples_split=bp[\"min_samples_split\"], \n",
    "                             min_samples_leaf=bp[\"min_samples_leaf\"],\n",
    "                             min_weight_fraction_leaf=bp[\"min_weight_fraction_leaf\"],\n",
    "                             max_features=bp[\"max_features\"],\n",
    "                             max_leaf_nodes=None,\n",
    "                             min_impurity_decrease=bp[\"min_impurity_decrease\"],\n",
    "                             bootstrap=bp[\"bootstrap\"],\n",
    "                             oob_score=False,\n",
    "                             n_jobs=-1)"
   ]
  },
  {
   "cell_type": "code",
   "execution_count": null,
   "id": "536261ea-87cc-44d6-826e-f6b90cc1e0ca",
   "metadata": {
    "pycharm": {
     "name": "#%%\n"
    }
   },
   "outputs": [],
   "source": []
  },
  {
   "cell_type": "code",
   "execution_count": 7,
   "id": "e034b30c-0cd1-4878-9cec-04678555267a",
   "metadata": {
    "pycharm": {
     "name": "#%%\n"
    }
   },
   "outputs": [],
   "source": [
    "# encode string class values as integers\n",
    "label_encoder = LabelEncoder()\n",
    "label_encoder = label_encoder.fit(y)\n",
    "label_encoded_y = label_encoder.transform(y)"
   ]
  },
  {
   "cell_type": "code",
   "execution_count": 94,
   "id": "7b666faa-d6be-4963-b985-d8708edf2688",
   "metadata": {
    "pycharm": {
     "name": "#%%\n"
    }
   },
   "outputs": [],
   "source": [
    "clf = RandomForestClassifier(n_estimators=bp[\"n_estimators\"], \n",
    "                             criterion=bp[\"criterion\"], \n",
    "                             max_depth=bp[\"max_depth\"], \n",
    "                             min_samples_split=bp[\"min_samples_split\"], \n",
    "                             min_samples_leaf=bp[\"min_samples_leaf\"],\n",
    "                             min_weight_fraction_leaf=bp[\"min_weight_fraction_leaf\"],\n",
    "                             max_features=bp[\"max_features\"],\n",
    "                             max_leaf_nodes=None,\n",
    "                             min_impurity_decrease=bp[\"min_impurity_decrease\"],\n",
    "                             bootstrap=bp[\"bootstrap\"],\n",
    "                             oob_score=False,\n",
    "                             n_jobs=-1)"
   ]
  },
  {
   "cell_type": "code",
   "execution_count": 12,
   "id": "27e9fd4e-ce80-4151-9455-31f1c4d19ee7",
   "metadata": {
    "pycharm": {
     "name": "#%%\n"
    },
    "tags": []
   },
   "outputs": [
    {
     "data": {
      "text/plain": [
       "array([0.5440613 , 0.45360825, 0.49206349, 0.45714286, 0.4852071 ])"
      ]
     },
     "execution_count": 12,
     "metadata": {},
     "output_type": "execute_result"
    }
   ],
   "source": [
    "cross_val_score(clf_xgb, X_res, y_res, cv=5, scoring='f1')"
   ]
  },
  {
   "cell_type": "code",
   "execution_count": 35,
   "id": "11e8e81d-b17d-46f5-9df3-bd9f3f7185b6",
   "metadata": {
    "pycharm": {
     "name": "#%%\n"
    }
   },
   "outputs": [],
   "source": [
    "clf = RandomForestClassifier(n_estimators=1000, \n",
    "                             criterion='gini', \n",
    "                             max_depth=None, \n",
    "                             min_samples_split=2, \n",
    "                             min_samples_leaf=1,\n",
    "                             min_weight_fraction_leaf=0.0,\n",
    "                             max_features=None,\n",
    "                             max_leaf_nodes=None,\n",
    "                             min_impurity_decrease=0.0,\n",
    "                             bootstrap=True,\n",
    "                             oob_score=False,\n",
    "                             n_jobs=-1)"
   ]
  },
  {
   "cell_type": "code",
   "execution_count": 88,
   "id": "60feadab-729b-4382-9052-a7b5a0ef2e3e",
   "metadata": {
    "pycharm": {
     "name": "#%%\n"
    }
   },
   "outputs": [],
   "source": [
    "params = OrderedDict()\n",
    "params[\"n_estimators\"] = (20, 1000)\n",
    "params[\"criterion\"] = [\"gini\", \"entropy\"]\n",
    "params[\"max_depth\"] = (1, 9)\n",
    "params[\"min_samples_split\"] = (2, 100)\n",
    "params[\"min_samples_leaf\"] = (1, 100)\n",
    "params[\"min_weight_fraction_leaf\"] = (0.0, 0.5)\n",
    "params[\"max_features\"] = [\"sqrt\", \"log2\", None]\n",
    "#params[\"max_leaf_nodes\"] = None\n",
    "params[\"min_impurity_decrease\"] = (0.0, 1.0)\n",
    "params[\"bootstrap\"] = [True, False]"
   ]
  },
  {
   "cell_type": "code",
   "execution_count": 32,
   "id": "81525646-54ab-44d1-b41e-af42c9ddb361",
   "metadata": {
    "pycharm": {
     "name": "#%%\n"
    }
   },
   "outputs": [],
   "source": [
    "X_clf_train, X_clf_valid, y_clf_train, y_clf_valid = train_test_split(\n",
    "    X_res.values, y_res, test_size=0.3, shuffle=False)"
   ]
  },
  {
   "cell_type": "code",
   "execution_count": 18,
   "id": "1f8a6bfc-1308-4c13-9c1d-ae8d077ddc7c",
   "metadata": {
    "pycharm": {
     "name": "#%%\n"
    }
   },
   "outputs": [],
   "source": [
    "clf = XGBRFClassifier(n_estimators=1000,\n",
    "                      max_depth=None, \n",
    "                      #max_leaves=0, \n",
    "                      #max_bin=0,\n",
    "                      grow_policy='depthwise',\n",
    "                      learning_rate=0.1,\n",
    "                      objective='reg:squarederror',\n",
    "                      booster='gbtree',\n",
    "                      tree_method='exact',\n",
    "                      #gamma=0.0,\n",
    "                      #min_child_weight=0.0,\n",
    "                      #max_delta_step=0.0,\n",
    "                      subsample=0.7,\n",
    "                      colsample_bytree=0.7,\n",
    "                      colsample_bylevel=0.7,\n",
    "                      colsample_bynode=0.7,\n",
    "                      #reg_alpha=0.0,\n",
    "                      #reg_lambda=0.0,\n",
    "                      #scale_pos_weight=0.0,\n",
    "                      use_label_encoder=False,\n",
    "                      verbosity=0,       \n",
    "                      n_jobs=-1)"
   ]
  },
  {
   "cell_type": "code",
   "execution_count": 70,
   "id": "705b456d-f6a8-43c4-81de-fee527b53d5c",
   "metadata": {
    "pycharm": {
     "name": "#%%\n"
    }
   },
   "outputs": [],
   "source": [
    "params = {\n",
    "    \"n_estimators\": (20,1000),\n",
    "    \"criterion\": [\"gini\", \"entropy\"],\n",
    "    \"max_depth\": (1, 9),\n",
    "    \"min_samples_split\": (2, 100),\n",
    "    \"min_samples_leaf\": (1, 100),\n",
    "    \"min_weight_fraction_leaf\": (0.0, 0.5),\n",
    "    \"max_features\": [\"sqrt\", \"log2\", None],\n",
    "    #\"max_leaf_nodes\": None,\n",
    "    \"min_impurity_decrease\": (0.0, 1.0),\n",
    "    \"bootstrap\": [True, False],\n",
    "}"
   ]
  },
  {
   "cell_type": "code",
   "execution_count": 122,
   "id": "fd1c29b3-db35-4330-85a5-52f06b0f3da7",
   "metadata": {
    "pycharm": {
     "name": "#%%\n"
    },
    "tags": []
   },
   "outputs": [],
   "source": [
    "#xgboost search space\n",
    "xgboost_params_bayesian = OrderedDict()\n",
    "params[\"n_estimators\"] = (20, 1000)\n",
    "params[\"max_depth\"] = (1, 50)\n",
    "#params[\"max_leaves\"] = (1, 9)\n",
    "#params[\"max_bin\"] = (2, 100)\n",
    "params[\"grow_policy\"] = ['depthwise', 'lossguide']\n",
    "params[\"learning_rate\"] = (0.0001, 0.99)\n",
    "#params[\"objective\"] = \n",
    "#params[\"booster\"] = [\"gbtree\", \"gblinear\", \"dart\"]\n",
    "params[\"tree_method\"] = [\"exact\", \"approx\", \"hist\"]\n",
    "params[\"gamma\"] = (0.0, 1000.0)\n",
    "params[\"min_child_weight\"] = (0.0, 500.0)\n",
    "#params[\"max_delta_step\"] = (0.0, 1.0)\n",
    "params[\"subsample\"] = (0.0, 1.0)\n",
    "#params[\"subsampleing_method\"] = ['uniform', 'gradient']\n",
    "params[\"colsample_bytree\"] = (0.1, 1.0)\n",
    "params[\"colsample_bylevel\"] = (0.1, 1.0)\n",
    "params[\"colsample_bynode\"] = (0.1, 1.0)\n",
    "params[\"reg_alpha\"] = (0.0, 100.0)\n",
    "params[\"reg_lambda\"] = (0.0, 100.0)\n",
    "#params[\"scale_pos_weight\"] = (0.0, 1.0)\n",
    "#params[\"base_score\"] = (0.0, 1.0)"
   ]
  },
  {
   "cell_type": "code",
   "execution_count": 14,
   "id": "7bcbf602-4801-4f95-9a40-3dcb085b1210",
   "metadata": {
    "pycharm": {
     "name": "#%%\n"
    }
   },
   "outputs": [],
   "source": [
    "#import skopt\n",
    "#from skopt import BayesSearchCV"
   ]
  },
  {
   "cell_type": "code",
   "execution_count": 76,
   "id": "1a01e21f-9604-445f-8e3e-deffa5c89adb",
   "metadata": {
    "pycharm": {
     "name": "#%%\n"
    }
   },
   "outputs": [],
   "source": [
    "params = {\n",
    "    \"gamma\": [0.5, 1, 1.5, 2, 5],\n",
    "    \"subsample\": (0.1, 1.0),\n",
    "    \"colsample_bytree\":(0.1, 1.0),\n",
    "    \"max_depth\": [3, 4, 5],\n",
    "}"
   ]
  }
 ],
 "metadata": {
  "kernelspec": {
   "display_name": "Python 3 (ipykernel)",
   "language": "python",
   "name": "python3"
  },
  "language_info": {
   "codemirror_mode": {
    "name": "ipython",
    "version": 3
   },
   "file_extension": ".py",
   "mimetype": "text/x-python",
   "name": "python",
   "nbconvert_exporter": "python",
   "pygments_lexer": "ipython3",
   "version": "3.9.10"
  }
 },
 "nbformat": 4,
 "nbformat_minor": 5
}